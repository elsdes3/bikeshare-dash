{
 "cells": [
  {
   "cell_type": "markdown",
   "id": "30846c2c-9dc0-4e95-b368-eb4f87457115",
   "metadata": {
    "tags": []
   },
   "source": [
    "# Data Aggregation"
   ]
  },
  {
   "cell_type": "code",
   "execution_count": null,
   "id": "b5e13596-c1af-4692-886c-7b97fb2fdff4",
   "metadata": {},
   "outputs": [],
   "source": [
    "%load_ext lab_black\n",
    "%load_ext autoreload\n",
    "%autoreload 2"
   ]
  },
  {
   "cell_type": "code",
   "execution_count": null,
   "id": "a3d69d04-5e9e-4694-84c4-99425e5f0b66",
   "metadata": {},
   "outputs": [],
   "source": [
    "import configparser\n",
    "import os\n",
    "from datetime import datetime\n",
    "from typing import Dict, List\n",
    "\n",
    "import geopandas as gpd\n",
    "import numpy as np\n",
    "import pandas as pd\n",
    "import requests\n",
    "import plotly.express as px\n",
    "import plotly.graph_objects as go\n",
    "from meteostat import Stations, Daily, Point\n",
    "from scipy.optimize import curve_fit\n",
    "from sqlalchemy import create_engine"
   ]
  },
  {
   "cell_type": "code",
   "execution_count": null,
   "id": "384024eb-e2f4-47f0-ba66-af45ea7f1974",
   "metadata": {
    "tags": [
     "parameters"
    ]
   },
   "outputs": [],
   "source": [
    "# Database\n",
    "table_name = \"ridership\"\n",
    "path_to_sql_cfg = \"../sql.ini\"\n",
    "\n",
    "# Neighbourhood boundaries dataset\n",
    "neigh_geo_url = (\n",
    "    \"https://ckan0.cf.opendata.inter.prod-toronto.ca/api/3/action/package_show\"\n",
    ")\n",
    "neigh_params = {\"id\": \"4def3f65-2a65-4a4f-83c4-b2a4aed72d46\"}"
   ]
  },
  {
   "cell_type": "code",
   "execution_count": null,
   "id": "a845b055-1d61-4c9d-aa5b-f81b0c5e9fee",
   "metadata": {},
   "outputs": [],
   "source": [
    "if not os.path.isfile(path_to_sql_cfg):\n",
    "    DB_TYPE = os.getenv(\"DB_TYPE\")\n",
    "    DB_DRIVER = os.getenv(\"DB_DRIVER\")\n",
    "    DB_USER = os.getenv(\"DB_USER\")\n",
    "    DB_PASS = os.getenv(\"DB_PASS\")\n",
    "    DB_HOST = os.getenv(\"DB_HOST\")\n",
    "    DB_PORT = os.getenv(\"DB_PORT\")\n",
    "else:\n",
    "    config = configparser.ConfigParser()\n",
    "    config.read(\"../sql.ini\")\n",
    "    default_cfg = config[\"default\"]\n",
    "    DB_TYPE = default_cfg[\"DB_TYPE\"]\n",
    "    DB_DRIVER = default_cfg[\"DB_DRIVER\"]\n",
    "    DB_USER = default_cfg[\"DB_USER\"]\n",
    "    DB_PASS = default_cfg[\"DB_PASS\"]\n",
    "    DB_HOST = default_cfg[\"DB_HOST\"]\n",
    "    DB_PORT = default_cfg[\"DB_PORT\"]\n",
    "DB_NAME = \"bikeshare\""
   ]
  },
  {
   "cell_type": "code",
   "execution_count": null,
   "id": "ef8e696f-61f3-479e-87a2-5afb2b781897",
   "metadata": {},
   "outputs": [],
   "source": [
    "# Connect to all databases (required to perform CRUD operations and submit queries)\n",
    "URI = f\"{DB_TYPE}+{DB_DRIVER}://{DB_USER}:{DB_PASS}@{DB_HOST}:{DB_PORT}/{DB_NAME}\""
   ]
  },
  {
   "cell_type": "markdown",
   "id": "5ab1b546-32a7-4a66-b665-a0376a65f12c",
   "metadata": {},
   "source": [
    "## Get Data"
   ]
  },
  {
   "cell_type": "markdown",
   "id": "32f3fd5d-bb5e-4266-81ca-345851062fe0",
   "metadata": {
    "tags": []
   },
   "source": [
    "### Connect to Database"
   ]
  },
  {
   "cell_type": "code",
   "execution_count": null,
   "id": "d953e14c-b0c5-49cb-a7c7-dcf31f1f6f95",
   "metadata": {},
   "outputs": [],
   "source": [
    "engine = create_engine(URI)\n",
    "conn = engine.connect()"
   ]
  },
  {
   "cell_type": "markdown",
   "id": "7ad60076-95b3-4da0-acfa-739940dc3e95",
   "metadata": {},
   "source": [
    "### Query Data from Table"
   ]
  },
  {
   "cell_type": "code",
   "execution_count": null,
   "id": "9abfef1f-e320-4460-bf6f-67c5290eda0f",
   "metadata": {},
   "outputs": [],
   "source": [
    "%%time\n",
    "df = pd.read_sql(\n",
    "    f\"\"\"\n",
    "    SELECT *\n",
    "    FROM {table_name}\n",
    "    WHERE station_type = 'start'\n",
    "    \"\"\",\n",
    "    con=conn\n",
    ")\n",
    "df"
   ]
  },
  {
   "cell_type": "markdown",
   "id": "6e553931-0348-4c14-916a-d210d786483b",
   "metadata": {},
   "source": [
    "### Close MySQL Database Connection"
   ]
  },
  {
   "cell_type": "code",
   "execution_count": null,
   "id": "2bec4d7a-7a60-4097-84de-568928776d76",
   "metadata": {},
   "outputs": [],
   "source": [
    "conn.close()\n",
    "engine.dispose()"
   ]
  },
  {
   "cell_type": "markdown",
   "id": "1b0b2749-a5f4-478b-b4ce-bb60ebb9b6fa",
   "metadata": {},
   "source": [
    "## Remove Outliers by Average Trip Duration"
   ]
  },
  {
   "cell_type": "markdown",
   "id": "6ffd3ba3-4ea7-4541-b9e2-53d760d4be62",
   "metadata": {},
   "source": [
    "Show the statistics for the trip durations"
   ]
  },
  {
   "cell_type": "code",
   "execution_count": null,
   "id": "e6784e96-e6df-4f82-9ca3-bcdda87bc86b",
   "metadata": {},
   "outputs": [],
   "source": [
    "df[\"duration_mean\"].describe().to_frame()"
   ]
  },
  {
   "cell_type": "markdown",
   "id": "8036a8ee-9675-45d9-b39a-b61dce60f75e",
   "metadata": {},
   "source": [
    "Use trip duration to\n",
    "- remove sub-one minute trips (trips with an unrealistic duration)\n",
    "- remove trips with a duration outside the IQR (25%-75% percentiles)\n",
    "  - these are outliers, since a trip can't be 8.6 X 10^4 seconds (86,000 seconds or 1,437 minutes) in length"
   ]
  },
  {
   "cell_type": "code",
   "execution_count": null,
   "id": "96974bab-2fc9-4357-95c3-192b82924872",
   "metadata": {},
   "outputs": [],
   "source": [
    "%%time\n",
    "# Removing false start trips\n",
    "df = df[(df['duration_mean'] >= 60)]\n",
    "\n",
    "# Removing outliers\n",
    "q1 = df['duration_mean'].quantile(0.25)\n",
    "q3 = df['duration_mean'].quantile(0.75)\n",
    "\n",
    "interquartile_range = q3 - q1\n",
    "\n",
    "df = df[\n",
    "    ~(\n",
    "        (df['duration_mean'] < (q1 - 1.5 * interquartile_range))\n",
    "         |(df['duration_mean'] > (q3 + 1.5 * interquartile_range))\n",
    "    )\n",
    "].reset_index(drop=True)"
   ]
  },
  {
   "cell_type": "markdown",
   "id": "f8075d6c-60bb-4997-a5c8-a690008a2cbd",
   "metadata": {},
   "source": [
    "## Aggregate to Daily Ridership"
   ]
  },
  {
   "cell_type": "code",
   "execution_count": null,
   "id": "8fb27ccb-ba1c-4d33-960b-3fb0a145049e",
   "metadata": {},
   "outputs": [],
   "source": [
    "%%time\n",
    "df_daily = df.groupby(\n",
    "    [\n",
    "        \"station_name\",\n",
    "        \"year\",\n",
    "        \"month\",\n",
    "        \"day\",\n",
    "        \"user_type\",\n",
    "    ],\n",
    "    as_index=False,\n",
    ").agg(\n",
    "    {\n",
    "        \"num_trips\": \"sum\",\n",
    "        \"area_name\": \"min\",\n",
    "        \"lat\": \"min\",\n",
    "        \"lon\": \"min\",\n",
    "        \"altitude\": \"min\",\n",
    "        \"capacity\": \"min\",\n",
    "        \"physicalkey\": \"min\",\n",
    "        \"transitcard\": \"min\",\n",
    "        \"phone\": \"min\",\n",
    "        \"neigh_shape_area\": \"min\",\n",
    "        \"neigh_shape_length\": \"min\",\n",
    "        \"neigh_classification\": \"min\",\n",
    "        \"neigh_transit_stops\": \"min\",\n",
    "        \"neigh_colleges_univs\": \"min\",\n",
    "        \"neigh_cultural_attractions\": \"min\",\n",
    "        \"neigh_places_of_interest\": \"min\",\n",
    "        \"neigh_pop_2016\": \"min\",\n",
    "        \"neigh_youth_15_24\": \"min\",\n",
    "        \"neigh_work_age_25_54\": \"min\",\n",
    "    }\n",
    ")\n",
    "df_daily"
   ]
  },
  {
   "cell_type": "markdown",
   "id": "ff6cb608-b500-42b5-b8e1-33d7dcfaae0d",
   "metadata": {},
   "source": [
    "## Exploratory Data Analysis"
   ]
  },
  {
   "cell_type": "markdown",
   "id": "d64f7add-ac8c-40e1-b323-acfca72d32a7",
   "metadata": {},
   "source": [
    "### Stations by Neighbourhood"
   ]
  },
  {
   "cell_type": "code",
   "execution_count": null,
   "id": "3b9aefa6-dc40-42db-b479-e796f64ea642",
   "metadata": {},
   "outputs": [],
   "source": [
    "%%time\n",
    "df_num_stations_by_neigh = (\n",
    "    df_daily.groupby(\"area_name\", as_index=False)[\"station_name\"]\n",
    "    .nunique()\n",
    "    .sort_values(by=[\"station_name\"], ascending=False)\n",
    "    .reset_index(drop=True)\n",
    "    .rename(columns={\"station_name\": \"num_stations\"})\n",
    ")\n",
    "df_num_stations_by_neigh"
   ]
  },
  {
   "cell_type": "markdown",
   "id": "25514362-267f-4f16-bad6-12badce94988",
   "metadata": {},
   "source": [
    "### Capacity"
   ]
  },
  {
   "cell_type": "code",
   "execution_count": null,
   "id": "63393ac7-5adc-418b-8468-c6e3e96ccc1b",
   "metadata": {},
   "outputs": [],
   "source": [
    "%%time\n",
    "capacity = (\n",
    "    df_daily.groupby([\"station_name\"], as_index=False)[\"capacity\"]\n",
    "    .mean()\n",
    "    .sort_values(by=[\"capacity\"], ascending=False)\n",
    "    .reset_index(drop=True)\n",
    "    .astype({\"capacity\": int})\n",
    "    .rename(columns={\"capacity\": \"avg_station_capacity\"})\n",
    ")\n",
    "capacity"
   ]
  },
  {
   "cell_type": "code",
   "execution_count": null,
   "id": "4d8794dc-1d93-48ea-9d80-5736b3c5b49e",
   "metadata": {},
   "outputs": [],
   "source": [
    "%%time\n",
    "capacity_by_neigh = (\n",
    "    df_daily.groupby([\"area_name\", \"station_name\"], as_index=False)[\"capacity\"]\n",
    "    .min()\n",
    "    .reset_index(drop=True)\n",
    "    .groupby([\"area_name\"], as_index=False)[\"capacity\"]\n",
    "    .mean()\n",
    "    .sort_values(by=[\"capacity\"], ascending=False)\n",
    "    .rename(columns={\"capacity\": \"avg_station_capacity\"})\n",
    ")\n",
    "capacity_by_neigh"
   ]
  },
  {
   "cell_type": "markdown",
   "id": "065e4c8c-32c3-4e09-aa20-c119cab22e9a",
   "metadata": {},
   "source": [
    "### Transit Stops by Neighbourhood"
   ]
  },
  {
   "cell_type": "code",
   "execution_count": null,
   "id": "077a7ad6-f1e1-44f8-a39e-8bb66e7c1268",
   "metadata": {},
   "outputs": [],
   "source": [
    "%%time\n",
    "transit_stops_by_neigh = (\n",
    "    df_daily.groupby([\"area_name\"], as_index=False)[\"neigh_transit_stops\"]\n",
    "    .min()\n",
    "    .reset_index(drop=True)\n",
    "    .astype({\"neigh_transit_stops\": int})\n",
    "    .sort_values(by=[\"neigh_transit_stops\"], ascending=False)\n",
    ")\n",
    "transit_stops_by_neigh"
   ]
  },
  {
   "cell_type": "markdown",
   "id": "de7de612-abb0-4773-b413-92bedfb1341e",
   "metadata": {},
   "source": [
    "### Number of stations with support for Phone Unlocking"
   ]
  },
  {
   "cell_type": "code",
   "execution_count": null,
   "id": "a97ecf4c-583b-440e-8291-39ab3cdf5ec6",
   "metadata": {},
   "outputs": [],
   "source": [
    "%%time\n",
    "neigh_with_phone = (\n",
    "    df_daily.groupby([\"area_name\", \"station_name\"], as_index=False)[\"phone\"]\n",
    "    .min()\n",
    "    .groupby(\"area_name\", as_index=False)[\"phone\"]\n",
    "    .count()\n",
    "    .sort_values(by=\"phone\", ascending=False)\n",
    "    .rename(columns={\"phone\": \"num_stations_with_phone_unlock\"})\n",
    ")\n",
    "neigh_with_phone"
   ]
  },
  {
   "cell_type": "markdown",
   "id": "4e14cb89-1fb9-42db-b7c6-c94894e8d45c",
   "metadata": {},
   "source": [
    "### Get Neighbourhood Boundaries"
   ]
  },
  {
   "cell_type": "code",
   "execution_count": null,
   "id": "2db72b5e-ee02-4aa7-b40d-b15c4ac92e73",
   "metadata": {},
   "outputs": [],
   "source": [
    "%%time\n",
    "package = requests.get(neigh_geo_url, params=neigh_params).json()\n",
    "n_url = (\n",
    "    package[\"result\"][\"resources\"][0][\"url\"].replace(\n",
    "        \"datastore/dump\", \"download_resource\"\n",
    "    )\n",
    "    + \"?format=geojson&projection=4326\"\n",
    ")\n",
    "gdf = gpd.read_file(n_url)[[\"AREA_NAME\", \"Shape__Area\", \"geometry\"]].rename(columns={\"AREA_NAME\": \"area_name\"})\n",
    "d_renaming = {\n",
    "    \"St.James\": \"St. James\",\n",
    "    \"Weston-Pellam\": \"Weston-Pelham\",\n",
    "}\n",
    "for k, v in d_renaming.items():\n",
    "    gdf[\"area_name\"] = gdf[\"area_name\"].str.replace(k, v, regex=False)\n",
    "print(gdf.crs)\n",
    "display(gdf.head())"
   ]
  },
  {
   "cell_type": "markdown",
   "id": "884ee5fc-dcb4-4dea-9d3c-8454dd039510",
   "metadata": {},
   "source": [
    "### Average Daily Ridership"
   ]
  },
  {
   "cell_type": "code",
   "execution_count": null,
   "id": "4d3c3d01-9b30-407e-ab4f-2b0fa97cb0d3",
   "metadata": {},
   "outputs": [],
   "source": [
    "%%time\n",
    "avg_daily_ridership = (\n",
    "    df_daily.groupby([\"area_name\"], as_index=False)[\"num_trips\"]\n",
    "    .mean()\n",
    "    .sort_values(by=[\"num_trips\"], ascending=False)\n",
    "    .rename(columns={\"num_trips\": \"avg_daily_ridership\"})\n",
    ")\n",
    "avg_daily_ridership"
   ]
  },
  {
   "cell_type": "code",
   "execution_count": null,
   "id": "5cfc9e90-b737-49d0-b64e-8979a682d808",
   "metadata": {},
   "outputs": [],
   "source": [
    "top_neigh_by_daily_ridership = [\n",
    "    \"Waterfront Communities-The Island (77)\",\n",
    "    \"Niagara (82)\",\n",
    "    \"Church-Yonge Corridor (75)\",\n",
    "    \"North St.James Town (74)\",\n",
    "    \"Regent Park (72)\",\n",
    "]"
   ]
  },
  {
   "cell_type": "markdown",
   "id": "d06f61f8-5b6a-4ab4-8405-52a300cc481c",
   "metadata": {},
   "source": [
    "### Combined Stats by Neighbourhood"
   ]
  },
  {
   "cell_type": "code",
   "execution_count": null,
   "id": "fbead319-06cd-44a5-8c92-803c67b9873e",
   "metadata": {},
   "outputs": [],
   "source": [
    "%%time\n",
    "neigh_stats = (\n",
    "    capacity_by_neigh.merge(transit_stops_by_neigh, on=\"area_name\", how=\"inner\")\n",
    "    .merge(df_num_stations_by_neigh, on=\"area_name\", how=\"inner\")\n",
    "    .merge(neigh_with_phone, on=\"area_name\", how=\"inner\")\n",
    "    .merge(avg_daily_ridership, on=\"area_name\", how=\"inner\")\n",
    "    .merge(gdf, on=\"area_name\", how=\"inner\")\n",
    ")\n",
    "neigh_stats.head(3)"
   ]
  },
  {
   "cell_type": "code",
   "execution_count": null,
   "id": "d1c0aae3-59cc-4d7a-9469-c7008963e55d",
   "metadata": {},
   "outputs": [],
   "source": [
    "neigh_stats.drop(columns=[\"geometry\"]).corr().loc[\n",
    "    [\"avg_station_capacity\", \"num_stations\"]\n",
    "]"
   ]
  },
  {
   "cell_type": "markdown",
   "id": "877cb09b-ca33-486d-ad63-8c86bfa676e7",
   "metadata": {},
   "source": [
    "Export aggregated neighbourhood data to disk"
   ]
  },
  {
   "cell_type": "code",
   "execution_count": null,
   "id": "1b1f2f73-7ea3-495b-911b-64daf148d143",
   "metadata": {
    "tags": []
   },
   "outputs": [],
   "source": [
    "%%time\n",
    "neigh_stats.drop(columns=[\"geometry\"]).to_excel(\"data/processed/aggregations.xlsx\", sheet_name=\"neighbourhood\", index=False)"
   ]
  },
  {
   "cell_type": "markdown",
   "id": "cd986b64-228a-459a-80c1-db0b6dcb15f7",
   "metadata": {},
   "source": [
    "### Station Properties"
   ]
  },
  {
   "cell_type": "code",
   "execution_count": null,
   "id": "ac088a37-4630-4538-8833-379e6c64e484",
   "metadata": {},
   "outputs": [],
   "source": [
    "def get_station_props(df, s=\"physicalkey\"):\n",
    "    stat_prop = (\n",
    "        df_daily.groupby([\"station_name\"], as_index=False)\n",
    "        .agg({s: \"min\"})\n",
    "        .rename(columns={s: \"count\"})\n",
    "        .assign(stype=s)\n",
    "    )\n",
    "    return stat_prop"
   ]
  },
  {
   "cell_type": "code",
   "execution_count": null,
   "id": "fc3709ff-6942-43f0-85ec-0eabde3878b8",
   "metadata": {
    "tags": []
   },
   "outputs": [],
   "source": [
    "unlock_types = pd.concat(\n",
    "    [\n",
    "        get_station_props(df_daily, \"physicalkey\"),\n",
    "        get_station_props(df_daily, \"transitcard\"),\n",
    "        get_station_props(df_daily, \"phone\"),\n",
    "    ]\n",
    ")\n",
    "unlock_types"
   ]
  },
  {
   "cell_type": "code",
   "execution_count": null,
   "id": "abc13f23-8c7d-4de7-bed2-70289227f037",
   "metadata": {},
   "outputs": [],
   "source": [
    "unlock_types_counts = unlock_types.groupby(\"stype\", as_index=False)[\"count\"].sum()\n",
    "unlock_types_counts"
   ]
  },
  {
   "cell_type": "markdown",
   "id": "76bd20cd-668c-4cde-ad41-7272a01437f0",
   "metadata": {},
   "source": [
    "### Total Daily Trips"
   ]
  },
  {
   "cell_type": "code",
   "execution_count": null,
   "id": "6c9ec25e-f0f1-48c2-b21b-6fad68944d3a",
   "metadata": {},
   "outputs": [],
   "source": [
    "%%time\n",
    "daily_trips = df_daily.groupby([\"year\", \"month\", \"day\"], as_index=False)[\n",
    "    \"num_trips\"\n",
    "].sum()\n",
    "daily_trips[\"date\"] = daily_trips.apply(\n",
    "    lambda x: datetime.strptime(\n",
    "        \"{0} {1} {2} 00:00:00\".format(x[\"year\"], x[\"month\"], x[\"day\"]),\n",
    "        \"%Y %m %d %H:%M:%S\",\n",
    "    ),\n",
    "    axis=1,\n",
    ")\n",
    "daily_trips"
   ]
  },
  {
   "cell_type": "markdown",
   "id": "5f70ed95-b7b2-4609-81c5-0a56aab7d978",
   "metadata": {},
   "source": [
    "### Total Daily Trips By User Type"
   ]
  },
  {
   "cell_type": "code",
   "execution_count": null,
   "id": "ab45a144-11d2-4852-be51-d622085d2215",
   "metadata": {},
   "outputs": [],
   "source": [
    "%%time\n",
    "m_nums = list(range(1,12+1))\n",
    "m_names = ['January', 'February', 'March', 'April', 'May', 'June', 'July', 'August', 'September', 'October', 'November', 'December']\n",
    "daily_trips_by_user = pd.concat([\n",
    "    df_daily.query(\"area_name.isin(@top_neigh_by_daily_ridership)\").groupby(\n",
    "        [\"area_name\", \"user_type\", \"year\", \"month\", \"day\"], as_index=False\n",
    "    )[\"num_trips\"].sum(),\n",
    "    df_daily.groupby([\"user_type\", \"year\", \"month\", \"day\"], as_index=False)[\n",
    "        \"num_trips\"\n",
    "    ].sum().assign(area_name=\"All\")[\n",
    "        [\"area_name\", \"user_type\", \"year\", \"month\", \"day\", \"num_trips\"]\n",
    "    ]\n",
    "], ignore_index=True)\n",
    "daily_trips_by_user[\"date\"] = daily_trips_by_user.apply(\n",
    "    lambda x: datetime.strptime(\n",
    "        \"{0} {1} {2} 00:00:00\".format(x[\"year\"], x[\"month\"], x[\"day\"]),\n",
    "        \"%Y %m %d %H:%M:%S\",\n",
    "    ),\n",
    "    axis=1,\n",
    ")\n",
    "daily_trips_by_user[\"month\"] = daily_trips_by_user[\"month\"].map({u: m for u, m in zip(m_nums, m_names)})\n",
    "daily_trips_by_user"
   ]
  },
  {
   "cell_type": "code",
   "execution_count": null,
   "id": "6fe9ded8-6333-4f90-bc5b-6f8c4349ece6",
   "metadata": {},
   "outputs": [],
   "source": [
    "def plot_daily_trips_line_chart(\n",
    "    df,\n",
    "    month,\n",
    "    neighbourhood,\n",
    "    l_colors,\n",
    "    x,\n",
    "    y,\n",
    "    m_types,\n",
    "    annotation_texts,\n",
    "    ptitle,\n",
    "    annotate_rhs,\n",
    "):\n",
    "    \"\"\"Show daily trips by user type.\"\"\"\n",
    "    layout = go.Layout(\n",
    "        paper_bgcolor=\"rgba(0,0,0,0)\",\n",
    "        plot_bgcolor=\"rgba(0,0,0,0)\",\n",
    "        margin=go.layout.Margin(l=0, r=0, b=25, t=0),\n",
    "    )\n",
    "    fig = go.Figure(layout=layout)\n",
    "\n",
    "    annotations = []\n",
    "    for m_type, l_color, annotation_text in zip(m_types, l_colors, annotation_texts):\n",
    "        # Get final mask\n",
    "        user_type_mask = f\"user_type == '{m_type} Member'\"\n",
    "        # Filter data to Separate Users\n",
    "        df_d = data_filtered.query(user_type_mask)[[x, y]]\n",
    "\n",
    "        # Get suffix in title\n",
    "        month_suffix = f\"{month[:3]}.\" if month != \"All\" else \"2021\"\n",
    "        neigh_suffix = f\" in {neighbourhood}\" if neighbourhood != \"All\" else \"\"\n",
    "        ptitle_suffix = month_suffix + neigh_suffix\n",
    "\n",
    "        # Lines\n",
    "        fig.add_trace(\n",
    "            go.Scatter(\n",
    "                x=df_d[x],\n",
    "                y=df_d[y],\n",
    "                mode=\"lines\",\n",
    "                name=m_type,\n",
    "                line=dict(color=l_color, width=2),\n",
    "                connectgaps=True,\n",
    "            )\n",
    "        )\n",
    "\n",
    "        # endpoints\n",
    "        fig.add_trace(\n",
    "            go.Scatter(\n",
    "                x=[df_d[x].iloc[0], df_d[x].iloc[-1]],\n",
    "                y=[df_d[y].iloc[0], df_d[y].iloc[-1]],\n",
    "                mode=\"markers\",\n",
    "                marker=dict(color=l_color, size=8),\n",
    "            )\n",
    "        )\n",
    "\n",
    "        # labeling the left_side of the plot\n",
    "        annotations.append(\n",
    "            dict(\n",
    "                xref=\"paper\",\n",
    "                x=0.05,\n",
    "                y=df_d[y].iloc[0],\n",
    "                xanchor=\"right\",\n",
    "                yanchor=\"middle\",\n",
    "                text=m_type,\n",
    "                font=dict(family=\"Arial\", size=16, color=l_color),\n",
    "                showarrow=False,\n",
    "            )\n",
    "        )\n",
    "\n",
    "        # labeling the right_side of the plot\n",
    "        if annotate_rhs:\n",
    "            annotations.append(\n",
    "                dict(\n",
    "                    xref=\"paper\",\n",
    "                    x=0.95,\n",
    "                    y=df_d[y].iloc[-1],\n",
    "                    xanchor=\"left\",\n",
    "                    yanchor=\"middle\",\n",
    "                    text=annotation_text,\n",
    "                    font=dict(family=\"Arial\", size=16, color=l_color),\n",
    "                    showarrow=False,\n",
    "                )\n",
    "            )\n",
    "    fig.update_layout(\n",
    "        yaxis=dict(\n",
    "            showgrid=False,\n",
    "            zeroline=False,\n",
    "            showline=False,\n",
    "            showticklabels=False,\n",
    "        ),\n",
    "        autosize=True,\n",
    "        margin=dict(\n",
    "            autoexpand=False,\n",
    "            l=20,\n",
    "            r=65,\n",
    "        ),\n",
    "        showlegend=False,\n",
    "    )\n",
    "    # Title\n",
    "    annotations.append(\n",
    "        dict(\n",
    "            xref=\"paper\",\n",
    "            yref=\"paper\",\n",
    "            x=0.05,\n",
    "            y=0.9,\n",
    "            xanchor=\"left\",\n",
    "            yanchor=\"bottom\",\n",
    "            text=f\"{ptitle}{ptitle_suffix}\",\n",
    "            font=dict(family=\"Arial\", size=22, color=\"rgb(92,90,90)\"),\n",
    "            showarrow=False,\n",
    "        )\n",
    "    )\n",
    "    fig.update_layout(annotations=annotations)\n",
    "    fig.update_xaxes(tickfont=dict(family=\"Arial\", size=16, color=\"rgb(92,90,90)\"))\n",
    "    for trace in fig[\"data\"]:\n",
    "        if trace[\"name\"] not in [\"Annual\", \"Casual\"]:\n",
    "            trace[\"showlegend\"] = False\n",
    "    return fig"
   ]
  },
  {
   "cell_type": "code",
   "execution_count": null,
   "id": "d2b4cca5-79ad-4d17-bb31-a5687ba2d1ec",
   "metadata": {},
   "outputs": [],
   "source": [
    "# User Inputs\n",
    "month = \"All\"\n",
    "neighbourhood = \"All\"\n",
    "\n",
    "# Get masks per user inputs\n",
    "month_mask = f\" & month == '{month}'\" if month != \"All\" else \"\"\n",
    "neigh_mask = f\"area_name == '{neighbourhood}'\"\n",
    "data_filtered = daily_trips_by_user.query(f\"{neigh_mask}{month_mask}\")\n",
    "\n",
    "plot_daily_trips_line_chart(\n",
    "    data_filtered,\n",
    "    month=month,\n",
    "    neighbourhood=neighbourhood,\n",
    "    l_colors=[\"black\", \"#BEBEBE\"],\n",
    "    x=\"date\",\n",
    "    y=\"num_trips\",\n",
    "    m_types=[\"Annual\", \"Casual\"],\n",
    "    annotation_texts=[\"Peak Season\", \"Higher Yearly Var.\"],\n",
    "    ptitle=\"Daily Trips in \",\n",
    "    annotate_rhs=True,\n",
    ")"
   ]
  },
  {
   "cell_type": "markdown",
   "id": "b0261e82-09b8-44cb-b19f-ca201f400d97",
   "metadata": {},
   "source": [
    "### Daily Trips by Month of Each Quarter by User Type"
   ]
  },
  {
   "cell_type": "code",
   "execution_count": null,
   "id": "2fbe8ca0-e63f-472c-a28c-d9c7e23a0140",
   "metadata": {
    "tags": []
   },
   "outputs": [],
   "source": [
    "def plot_faceted_bar_chart(\n",
    "    df,\n",
    "    x=\"weekday\",\n",
    "    y=\"num_trips\",\n",
    "    color_by_col=\"user_type\",\n",
    "    facet_col=\"month\",\n",
    "    colors=[\"black\", \"#BEBEBE\"],\n",
    "    ptitle=\"Title\",\n",
    "    facet_col_vals=[],\n",
    "):\n",
    "    fig = px.bar(\n",
    "        df,\n",
    "        x=\"weekday\",\n",
    "        y=\"num_trips\",\n",
    "        color=\"user_type\",\n",
    "        barmode=\"group\",\n",
    "        facet_col=\"month\",\n",
    "        color_discrete_sequence=colors,\n",
    "    )\n",
    "    fig.for_each_annotation(lambda a: a.update(text=\"\"))\n",
    "    fig.update_layout(\n",
    "        paper_bgcolor=\"rgba(0,0,0,0)\",\n",
    "        plot_bgcolor=\"rgba(0,0,0,0)\",\n",
    "    )\n",
    "    fig.update_layout(\n",
    "        yaxis=dict(\n",
    "            showgrid=False,\n",
    "            zeroline=False,\n",
    "            showline=False,\n",
    "            showticklabels=False,\n",
    "        ),\n",
    "        autosize=True,\n",
    "        margin=dict(autoexpand=False, l=20, r=0, t=30, b=40),\n",
    "        showlegend=False,\n",
    "    )\n",
    "    fig.update_yaxes(title=\"\")\n",
    "\n",
    "    for k, v in enumerate(facet_col_vals, 1):\n",
    "        fig.update_layout(\n",
    "            {\n",
    "                f\"xaxis{k}\": dict(\n",
    "                    title=dict(\n",
    "                        text=f\"<b>{v}</b>\",\n",
    "                        font=dict(family=\"Arial\", size=16, color=\"rgb(92,90,90)\"),\n",
    "                    )\n",
    "                )\n",
    "            }\n",
    "        )\n",
    "    # Title\n",
    "    annotation = dict(\n",
    "        xref=\"paper\",\n",
    "        yref=\"paper\",\n",
    "        x=0.0,\n",
    "        y=0.99,\n",
    "        xanchor=\"left\",\n",
    "        yanchor=\"bottom\",\n",
    "        text=ptitle,\n",
    "        font=dict(family=\"Arial\", size=22, color=\"rgb(92,90,90)\"),\n",
    "        showarrow=False,\n",
    "    )\n",
    "    fig.add_annotation(annotation)\n",
    "    fig.update_xaxes(tickfont=dict(family=\"Arial\", size=16, color=\"rgb(92,90,90)\"))\n",
    "    return fig"
   ]
  },
  {
   "cell_type": "code",
   "execution_count": null,
   "id": "cb766511-6ad2-46b8-a34f-70828fe8dfe5",
   "metadata": {
    "tags": []
   },
   "outputs": [],
   "source": [
    "%%time\n",
    "quarter = 3\n",
    "d_names = [\"Monday\", \"Tuesday\", \"Wednesday\", \"Thursday\", \"Friday\", \"Saturday\", \"Sunday\"]\n",
    "m_names_dict = {\n",
    "    1: [\"January\", \"February\", \"March\"],\n",
    "    2: [\"April\", \"May\", \"June\"],\n",
    "    3: [\"July\", \"August\", \"September\"],\n",
    "}\n",
    "months_order = m_names_dict[quarter]\n",
    "\n",
    "data_filtered_for_static_facet_chart = daily_trips_by_user.query(neigh_mask)\n",
    "quarter_weekday_trips_by_user = data_filtered_for_static_facet_chart.assign(\n",
    "    weekday=data_filtered_for_static_facet_chart[\"date\"].dt.day_name()\n",
    ").assign(\n",
    "    quarter=data_filtered_for_static_facet_chart[\"date\"].dt.quarter\n",
    ").query(f\"quarter == {quarter}\").groupby(\n",
    "    [\"user_type\", \"quarter\", \"month\", \"weekday\"],\n",
    "    as_index=False,\n",
    ")[\"num_trips\"].mean().set_index(\"weekday\").loc[\n",
    "    d_names\n",
    "].reset_index().set_index(\"month\").loc[\n",
    "    months_order\n",
    "].reset_index()\n",
    "quarter_weekday_trips_by_user[\"weekday\"] = quarter_weekday_trips_by_user[\"weekday\"].str[:3]\n",
    "quarter_weekday_trips_by_user.head(4)"
   ]
  },
  {
   "cell_type": "code",
   "execution_count": null,
   "id": "5c74e53f-c140-40ab-a0e9-fef6401be8a9",
   "metadata": {},
   "outputs": [],
   "source": [
    "# Get suffix in title\n",
    "neigh_suffix = f\" in {neighbourhood}\" if neighbourhood != \"All\" else \"\"\n",
    "ptitle_suffix = f\" in Q{quarter} of 2021\" + neigh_suffix\n",
    "plot_faceted_bar_chart(\n",
    "    quarter_weekday_trips_by_user,\n",
    "    x=\"weekday\",\n",
    "    y=\"num_trips\",\n",
    "    color_by_col=\"user_type\",\n",
    "    facet_col=\"month\",\n",
    "    colors=[\"black\", \"#BEBEBE\"],\n",
    "    ptitle=f\"Monthly Trips by Day of the Week{ptitle_suffix}\",\n",
    "    facet_col_vals=m_names_dict[quarter],\n",
    ")"
   ]
  },
  {
   "cell_type": "code",
   "execution_count": null,
   "id": "13a6d74a-f65b-4299-98a5-5d273ce33a40",
   "metadata": {
    "tags": []
   },
   "outputs": [],
   "source": [
    "# month_weekday_trips_by_user = (\n",
    "#     daily_trips_by_user.assign(weekday=daily_trips_by_user[\"date\"].dt.day_name())\n",
    "#     .groupby([\"user_type\", \"month\", \"weekday\"], as_index=False)[\"num_trips\"]\n",
    "#     .sum()\n",
    "# )\n",
    "# month_weekday_trips_by_user"
   ]
  },
  {
   "cell_type": "markdown",
   "id": "ef92d53d-eae8-4e99-a86b-7e41a6d7974c",
   "metadata": {},
   "source": [
    "Export aggregated quarterly data to disk"
   ]
  },
  {
   "cell_type": "code",
   "execution_count": null,
   "id": "0ce7b049-b31f-40e9-9201-1edf1cba0f68",
   "metadata": {},
   "outputs": [],
   "source": [
    "%%time\n",
    "daily_trips_by_user.to_csv(\"data/processed/bikeshare_daily_aggregations.csv\", index=False)"
   ]
  },
  {
   "cell_type": "markdown",
   "id": "2f8f24c1-4a24-470b-999e-9f135be26106",
   "metadata": {},
   "source": [
    "### Total Hourly Trips By User Type"
   ]
  },
  {
   "cell_type": "code",
   "execution_count": null,
   "id": "6db25c71-6f59-421f-ac61-ac6a90674250",
   "metadata": {
    "tags": []
   },
   "outputs": [],
   "source": [
    "%%time\n",
    "cols_order = [\"area_name\", \"user_type\", \"hour\", \"num_trips\"]\n",
    "hourly_trips_by_user = pd.concat(\n",
    "    [\n",
    "        df.query(\"area_name.isin(@top_neigh_by_daily_ridership)\").groupby(\n",
    "            [\"area_name\", \"user_type\", \"year\", \"month\", \"day\", \"hour\"],\n",
    "            as_index=False,\n",
    "        )[\"num_trips\"].sum().groupby([\"area_name\", \"user_type\", \"hour\"], as_index=False)[\"num_trips\"].mean(),\n",
    "        df.groupby([\"user_type\", \"year\", \"month\", \"day\", \"hour\"], as_index=False,)[\n",
    "            \"num_trips\"\n",
    "        ].sum().groupby([\"user_type\", \"hour\"], as_index=False)[\"num_trips\"].mean().assign(\n",
    "            area_name=\"All\"\n",
    "        )[cols_order],\n",
    "    ], ignore_index=True\n",
    ")\n",
    "hourly_trips_by_user"
   ]
  },
  {
   "cell_type": "code",
   "execution_count": null,
   "id": "db5db5b5-eb8d-40d7-a233-732c23f4c09c",
   "metadata": {},
   "outputs": [],
   "source": [
    "def plot_grouped_bar_chart(\n",
    "    df,\n",
    "    l_colors,\n",
    "    m_types,\n",
    "    ptitle,\n",
    "):\n",
    "    layout = go.Layout(\n",
    "        paper_bgcolor=\"rgba(0,0,0,0)\",\n",
    "        plot_bgcolor=\"rgba(0,0,0,0)\",\n",
    "        margin=go.layout.Margin(l=0, r=0, b=25, t=0),\n",
    "    )\n",
    "    fig = go.Figure(layout=layout)\n",
    "\n",
    "    for m_type, l_color in zip(m_types, l_colors):\n",
    "        df_d = df.query(f\"user_type == '{m_type} Member'\")\n",
    "        fig.add_trace(\n",
    "            go.Bar(\n",
    "                name=m_type,\n",
    "                x=df_d[\"hour\"].astype(str),\n",
    "                y=df_d[\"num_trips\"],\n",
    "                marker_color=l_color,\n",
    "            ),\n",
    "        )\n",
    "\n",
    "    annotations = []\n",
    "    # Title\n",
    "    annotations.append(\n",
    "        dict(\n",
    "            xref=\"paper\",\n",
    "            yref=\"paper\",\n",
    "            x=0.05,\n",
    "            y=0.95,\n",
    "            xanchor=\"left\",\n",
    "            yanchor=\"bottom\",\n",
    "            text=ptitle,\n",
    "            font=dict(family=\"Arial\", size=22, color=\"rgb(92,90,90)\"),\n",
    "            showarrow=False,\n",
    "        )\n",
    "    )\n",
    "    fig.update_xaxes(tickfont=dict(family=\"Arial\", size=16, color=\"rgb(92,90,90)\"))\n",
    "    fig.update_yaxes(tickfont=dict(family=\"Arial\", size=16, color=\"rgb(92,90,90)\"))\n",
    "    fig.update_layout(\n",
    "        barmode=\"group\",\n",
    "        legend=dict(yanchor=\"top\", y=0.99, xanchor=\"left\", x=0.9925),\n",
    "        annotations=annotations,\n",
    "    )\n",
    "    fig.update_layout(\n",
    "        yaxis=dict(\n",
    "            showgrid=False,\n",
    "            zeroline=False,\n",
    "            showline=False,\n",
    "            # showticklabels=False,\n",
    "        ),\n",
    "        autosize=True,\n",
    "        margin=dict(autoexpand=False, l=50, r=75, t=15, b=40),\n",
    "        showlegend=True,\n",
    "    )\n",
    "    fig.update_layout(\n",
    "        legend=dict(\n",
    "            yanchor=\"top\",\n",
    "            y=0.9,\n",
    "            xanchor=\"left\",\n",
    "            x=0.01,\n",
    "            font=dict(family=\"Arial\", size=16, color=\"rgb(92,90,90)\"),\n",
    "        )\n",
    "    )\n",
    "    return fig"
   ]
  },
  {
   "cell_type": "code",
   "execution_count": null,
   "id": "6f229a1c-38ea-4ccc-8802-0dc9cfee7c34",
   "metadata": {},
   "outputs": [],
   "source": [
    "neighbourhood = top_neigh_by_daily_ridership[1]\n",
    "neigh_mask = f\"area_name == '{neighbourhood}'\"\n",
    "hourly_trips_by_user_by_neigh = hourly_trips_by_user.query(neigh_mask)\n",
    "l_colors = [\"black\", \"#BEBEBE\"]\n",
    "m_types = [\"Annual\", \"Casual\"]\n",
    "\n",
    "neigh_suffix = f\" in {neighbourhood}\" if neighbourhood != \"All\" else \"\"\n",
    "\n",
    "plot_grouped_bar_chart(\n",
    "    hourly_trips_by_user_by_neigh,\n",
    "    l_colors,\n",
    "    m_types,\n",
    "    f\"Hourly Trips{neigh_suffix} in 2021\",\n",
    ")"
   ]
  },
  {
   "cell_type": "markdown",
   "id": "e486322b-2f50-4a5b-8cd2-66dbd2f38db9",
   "metadata": {},
   "source": [
    "Export aggregated hourly data to disk"
   ]
  },
  {
   "cell_type": "code",
   "execution_count": null,
   "id": "360fc2ff-8a8a-4b70-890f-b8a14f62d57e",
   "metadata": {},
   "outputs": [],
   "source": [
    "%%time\n",
    "hourly_trips_by_user.to_csv(\"data/processed/bikeshare_hourly_aggregations.csv\", index=False)"
   ]
  },
  {
   "cell_type": "markdown",
   "id": "10e01906-c17a-449c-a3db-1d828ca97e94",
   "metadata": {},
   "source": [
    "### Weather and Daily Total Ridership by User"
   ]
  },
  {
   "cell_type": "code",
   "execution_count": null,
   "id": "c23bfdad-fa53-44f3-9f4d-6027ef57c433",
   "metadata": {},
   "outputs": [],
   "source": [
    "%%time\n",
    "# Get nearby weather stations\n",
    "stations = Stations()\n",
    "stations = stations.nearby(43.6777, -79.6248)\n",
    "station = stations.fetch(1)\n",
    "\n",
    "daily_weather = Daily(\n",
    "    Point(station[\"latitude\"].iloc[0], station[\"longitude\"].iloc[0]),\n",
    "    daily_trips_by_user[\"date\"].min(),\n",
    "    daily_trips_by_user[\"date\"].max(),\n",
    ")\n",
    "daily_weather = daily_weather.fetch().reset_index().rename(columns={\"time\": \"date\"})\n",
    "daily_weather.head(6)"
   ]
  },
  {
   "cell_type": "code",
   "execution_count": null,
   "id": "ae8a308d-6475-42e5-aae1-618b2d5845fb",
   "metadata": {},
   "outputs": [],
   "source": [
    "daily_trips_by_user_w_weather = daily_trips_by_user.merge(\n",
    "    daily_weather[[\"date\", \"tavg\"]], on=\"date\"\n",
    ").sort_values(by=[\"area_name\", \"user_type\", \"date\"])\n",
    "daily_trips_by_user_w_weather"
   ]
  },
  {
   "cell_type": "code",
   "execution_count": null,
   "id": "a0cc3bc9-45e4-4550-b655-8076d7bb6506",
   "metadata": {},
   "outputs": [],
   "source": [
    "def exp_growth_no_shift(x, a, b):\n",
    "    return a * np.exp(-b * x)\n",
    "\n",
    "\n",
    "def plot_scatter(\n",
    "    df,\n",
    "    x=\"tavg\",\n",
    "    y=\"num_trips\",\n",
    "    m_types=[\"Annual\", \"Casual\"],\n",
    "    l_colors=[\"black\", \"#BEBEBE\"],\n",
    "    ptitle=\"Title\",\n",
    "):\n",
    "    layout = go.Layout(\n",
    "        paper_bgcolor=\"rgba(0,0,0,0)\",\n",
    "        plot_bgcolor=\"rgba(0,0,0,0)\",\n",
    "        margin=go.layout.Margin(l=0, r=0, b=25, t=0),\n",
    "    )\n",
    "    fig = go.Figure(layout=layout)\n",
    "\n",
    "    for m_type, l_color in zip(m_types, l_colors):\n",
    "        xvar = df.query(f\"user_type == '{m_type} Member'\")[x]\n",
    "        yvar = df.query(f\"user_type == '{m_type} Member'\")[y]\n",
    "        popt, pcov = curve_fit(exp_growth_no_shift, xvar, yvar, maxfev=2000)\n",
    "        y_fit = exp_growth_no_shift(xvar, *popt)\n",
    "\n",
    "        # Scatter\n",
    "        fig.add_trace(\n",
    "            go.Scatter(\n",
    "                x=xvar,\n",
    "                y=yvar,\n",
    "                mode=\"markers\",\n",
    "                name=m_type,\n",
    "                marker=dict(color=l_color),\n",
    "            )\n",
    "        )\n",
    "        # Trend Curves\n",
    "        fig.add_trace(\n",
    "            go.Scatter(\n",
    "                x=xvar,\n",
    "                y=y_fit,\n",
    "                mode=\"lines\",\n",
    "                name=None,\n",
    "                marker=dict(color=l_color),\n",
    "            )\n",
    "        )\n",
    "\n",
    "    annotations = []\n",
    "    # Title\n",
    "    annotations.append(\n",
    "        dict(\n",
    "            xref=\"paper\",\n",
    "            yref=\"paper\",\n",
    "            x=0.05,\n",
    "            y=0.95,\n",
    "            xanchor=\"left\",\n",
    "            yanchor=\"bottom\",\n",
    "            text=ptitle,\n",
    "            font=dict(family=\"Arial\", size=22, color=\"rgb(92,90,90)\"),\n",
    "            showarrow=False,\n",
    "        )\n",
    "    )\n",
    "\n",
    "    fig.update_xaxes(tickfont=dict(family=\"Arial\", size=16, color=\"rgb(92,90,90)\"))\n",
    "    fig.update_yaxes(tickfont=dict(family=\"Arial\", size=16, color=\"rgb(92,90,90)\"))\n",
    "    fig.update_layout(\n",
    "        legend=dict(\n",
    "            yanchor=\"top\",\n",
    "            y=0.9,\n",
    "            xanchor=\"left\",\n",
    "            x=0.05,\n",
    "            font=dict(family=\"Arial\", size=16, color=\"rgb(92,90,90)\"),\n",
    "        )\n",
    "    )\n",
    "\n",
    "    # set showlegend property by name of trace\n",
    "    for trace in fig[\"data\"]:\n",
    "        if trace[\"name\"] not in [m_type for m_type in m_types]:\n",
    "            trace[\"showlegend\"] = False\n",
    "\n",
    "    fig.update_layout(\n",
    "        yaxis=dict(\n",
    "            showgrid=False,\n",
    "            zeroline=False,\n",
    "            showline=False,\n",
    "            showticklabels=False,\n",
    "        ),\n",
    "        autosize=True,\n",
    "        margin=dict(\n",
    "            # autoexpand=False,\n",
    "            l=0,\n",
    "            r=0,\n",
    "            t=15,\n",
    "            b=20,\n",
    "            pad=0,\n",
    "        ),\n",
    "        showlegend=True,\n",
    "        annotations=annotations,\n",
    "    )\n",
    "    return fig"
   ]
  },
  {
   "cell_type": "code",
   "execution_count": null,
   "id": "bc686b49-9d0a-4960-8ae9-bada93484fc0",
   "metadata": {},
   "outputs": [],
   "source": [
    "neighbourhood = \"All\"\n",
    "\n",
    "daily_trips_weather_filtered = daily_trips_by_user_w_weather.query(\n",
    "    f\"area_name == '{neighbourhood}'\"\n",
    ")\n",
    "neigh_suffix = f\" in {neighbourhood.split(' (')[0]}\" if neighbourhood != \"All\" else \"\"\n",
    "\n",
    "plot_scatter(\n",
    "    daily_trips_weather_filtered,\n",
    "    x=\"tavg\",\n",
    "    y=\"num_trips\",\n",
    "    m_types=[\"Annual\", \"Casual\"],\n",
    "    l_colors=[\"black\", \"#BEBEBE\"],\n",
    "    ptitle=f\"Relationship between Ridership and Temp.{neigh_suffix} in 2021\",\n",
    ")"
   ]
  },
  {
   "cell_type": "markdown",
   "id": "32405e21-d896-42d5-af27-bc29e1904858",
   "metadata": {},
   "source": [
    "Export aggregated hourly data to disk"
   ]
  },
  {
   "cell_type": "code",
   "execution_count": null,
   "id": "a4ca14ce-b719-4e8d-8648-a6a76a85bebe",
   "metadata": {},
   "outputs": [],
   "source": [
    "%%time\n",
    "daily_trips_by_user_w_weather.to_csv(\"data/processed/bikeshare_daily_aggregations_for_weather.csv\", index=False)"
   ]
  }
 ],
 "metadata": {
  "kernelspec": {
   "display_name": "Python 3 (ipykernel)",
   "language": "python",
   "name": "python3"
  },
  "language_info": {
   "codemirror_mode": {
    "name": "ipython",
    "version": 3
   },
   "file_extension": ".py",
   "mimetype": "text/x-python",
   "name": "python",
   "nbconvert_exporter": "python",
   "pygments_lexer": "ipython3",
   "version": "3.9.7"
  }
 },
 "nbformat": 4,
 "nbformat_minor": 5
}
