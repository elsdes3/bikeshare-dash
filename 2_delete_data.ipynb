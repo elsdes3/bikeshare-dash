{
 "cells": [
  {
   "cell_type": "markdown",
   "id": "00c88564-1b07-4e33-851e-fd1774c23991",
   "metadata": {
    "tags": []
   },
   "source": [
    "# Delete Data"
   ]
  },
  {
   "cell_type": "code",
   "execution_count": 2,
   "id": "324d0edd-353c-42a9-87f8-4e8c9dee8e00",
   "metadata": {},
   "outputs": [],
   "source": [
    "%load_ext lab_black\n",
    "%load_ext autoreload\n",
    "%autoreload 2"
   ]
  },
  {
   "cell_type": "code",
   "execution_count": 3,
   "id": "5a410c4e-7fb4-4640-b9d6-90633a6d47ba",
   "metadata": {},
   "outputs": [],
   "source": [
    "import configparser\n",
    "import os\n",
    "import shutil\n",
    "from glob import glob\n",
    "\n",
    "from sqlalchemy import create_engine"
   ]
  },
  {
   "cell_type": "code",
   "execution_count": 4,
   "id": "95c18846-b91a-4876-84a9-54bc0af3d0ed",
   "metadata": {
    "tags": [
     "parameters"
    ]
   },
   "outputs": [],
   "source": [
    "# Database\n",
    "table_name = \"ridership\"\n",
    "path_to_sql_cfg = \"../sql.ini\""
   ]
  },
  {
   "cell_type": "code",
   "execution_count": 4,
   "id": "252412a4-5da7-44b4-bcc1-0d7b8648e336",
   "metadata": {},
   "outputs": [],
   "source": [
    "if not os.path.isfile(path_to_sql_cfg):\n",
    "    DB_TYPE = os.getenv(\"DB_TYPE\")\n",
    "    DB_DRIVER = os.getenv(\"DB_DRIVER\")\n",
    "    DB_USER = os.getenv(\"DB_USER\")\n",
    "    DB_PASS = os.getenv(\"DB_PASS\")\n",
    "    DB_HOST = os.getenv(\"DB_HOST\")\n",
    "    DB_PORT = os.getenv(\"DB_PORT\")\n",
    "else:\n",
    "    config = configparser.ConfigParser()\n",
    "    config.read(\"../sql.ini\")\n",
    "    default_cfg = config[\"default\"]\n",
    "    DB_TYPE = default_cfg[\"DB_TYPE\"]\n",
    "    DB_DRIVER = default_cfg[\"DB_DRIVER\"]\n",
    "    DB_USER = default_cfg[\"DB_USER\"]\n",
    "    DB_PASS = default_cfg[\"DB_PASS\"]\n",
    "    DB_HOST = default_cfg[\"DB_HOST\"]\n",
    "    DB_PORT = default_cfg[\"DB_PORT\"]\n",
    "DB_NAME = \"bikeshare\""
   ]
  },
  {
   "cell_type": "code",
   "execution_count": 5,
   "id": "8598d2fd-05eb-4d3e-af83-4071891d84da",
   "metadata": {},
   "outputs": [],
   "source": [
    "# Connect to single database (required to create database)\n",
    "URI_NO_DB = f\"{DB_TYPE}+{DB_DRIVER}://{DB_USER}:{DB_PASS}@{DB_HOST}:{DB_PORT}\"\n",
    "\n",
    "# Connect to all databases (required to perform CRUD operations and submit queries)\n",
    "URI = f\"{DB_TYPE}+{DB_DRIVER}://{DB_USER}:{DB_PASS}@{DB_HOST}:{DB_PORT}/{DB_NAME}\""
   ]
  },
  {
   "cell_type": "markdown",
   "id": "736dd0ee-5ec4-4f83-aa82-73332a649da0",
   "metadata": {},
   "source": [
    "## Drop Database with Processed Data"
   ]
  },
  {
   "cell_type": "markdown",
   "id": "17131656-ddab-4ef5-8e21-233073abdd44",
   "metadata": {},
   "source": [
    "Drop the `ridership` table in the `bikeshare` database"
   ]
  },
  {
   "cell_type": "code",
   "execution_count": 6,
   "id": "1e6481ae-f169-45cc-b0ea-4dbf1832c6d0",
   "metadata": {},
   "outputs": [],
   "source": [
    "engine = create_engine(URI)\n",
    "conn = engine.connect()"
   ]
  },
  {
   "cell_type": "code",
   "execution_count": 7,
   "id": "46dcf675-ba24-4379-b39e-65ce958302a2",
   "metadata": {},
   "outputs": [],
   "source": [
    "_ = conn.execute(f\"DROP TABLE IF EXISTS {table_name}\")"
   ]
  },
  {
   "cell_type": "code",
   "execution_count": 8,
   "id": "aac8401b-37e6-4e16-a687-cc4ed32d17bd",
   "metadata": {},
   "outputs": [],
   "source": [
    "conn.close()\n",
    "engine.dispose()"
   ]
  },
  {
   "cell_type": "markdown",
   "id": "394c32d0-4346-4467-b16b-0e5d9e3565ad",
   "metadata": {},
   "source": [
    "Drop the `bikeshare` database"
   ]
  },
  {
   "cell_type": "code",
   "execution_count": 9,
   "id": "f452982e-6d98-46fb-9afc-656f042ac46a",
   "metadata": {},
   "outputs": [],
   "source": [
    "engine = create_engine(URI_NO_DB)\n",
    "conn = engine.connect()"
   ]
  },
  {
   "cell_type": "code",
   "execution_count": 10,
   "id": "9e51530b-53f6-4463-be6f-9942c72d8499",
   "metadata": {},
   "outputs": [],
   "source": [
    "_ = conn.execute(f\"DROP DATABASE IF EXISTS {DB_NAME};\")"
   ]
  },
  {
   "cell_type": "code",
   "execution_count": 11,
   "id": "12f6e932-9b6e-41b9-be8d-d190989e16f1",
   "metadata": {},
   "outputs": [],
   "source": [
    "conn.close()\n",
    "engine.dispose()"
   ]
  },
  {
   "cell_type": "markdown",
   "id": "49352817-6f3e-400a-946c-94c97aafd907",
   "metadata": {},
   "source": [
    "## Delete Files and Folders"
   ]
  },
  {
   "cell_type": "markdown",
   "id": "f7b2b511-14e6-4e14-934d-7b8d9a37e2c6",
   "metadata": {},
   "source": [
    "### Delete Saved Charts"
   ]
  },
  {
   "cell_type": "code",
   "execution_count": 7,
   "id": "ed10e0c5-bfd8-43de-8b21-f64be4320b00",
   "metadata": {},
   "outputs": [],
   "source": [
    "saved_image_files = glob(f\"reports/figures/*.png\")\n",
    "for f in saved_image_files:\n",
    "    os.remove(f)"
   ]
  },
  {
   "cell_type": "markdown",
   "id": "162ca7e1-2355-4043-a307-53bbbd84fb52",
   "metadata": {},
   "source": [
    "### Delete Intermediate Processed Data"
   ]
  },
  {
   "cell_type": "code",
   "execution_count": 17,
   "id": "ccf4dd4d-aa79-4461-802e-77a5692cc47a",
   "metadata": {},
   "outputs": [],
   "source": [
    "processed_data_files = [\n",
    "    f\n",
    "    for files_list in [glob(f\"data/processed/*.{ext}\") for ext in [\"xlsx\", \"csv\"]]\n",
    "    for f in files_list\n",
    "]\n",
    "for f in processed_data_files:\n",
    "    os.remove(f)"
   ]
  },
  {
   "cell_type": "markdown",
   "id": "48bead27-c001-4401-8092-0054b148e93c",
   "metadata": {},
   "source": [
    "### Delete Raw Supplementary Datasets"
   ]
  },
  {
   "cell_type": "code",
   "execution_count": 13,
   "id": "bf3b6b5d-8a14-40bd-b818-89ef92a4ccd1",
   "metadata": {},
   "outputs": [],
   "source": [
    "raw_data_dirs = glob(\"data/raw/*\")\n",
    "for pdir in raw_data_dirs:\n",
    "    shutil.rmtree(pdir)"
   ]
  }
 ],
 "metadata": {
  "kernelspec": {
   "display_name": "Python 3 (ipykernel)",
   "language": "python",
   "name": "python3"
  },
  "language_info": {
   "codemirror_mode": {
    "name": "ipython",
    "version": 3
   },
   "file_extension": ".py",
   "mimetype": "text/x-python",
   "name": "python",
   "nbconvert_exporter": "python",
   "pygments_lexer": "ipython3",
   "version": "3.9.7"
  }
 },
 "nbformat": 4,
 "nbformat_minor": 5
}
