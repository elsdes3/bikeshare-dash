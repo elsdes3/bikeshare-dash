{
 "cells": [
  {
   "cell_type": "markdown",
   "id": "0f1a27e6-7568-4a7c-ab50-27f8061ae2ba",
   "metadata": {},
   "source": [
    "# Delete Data and Resources"
   ]
  },
  {
   "cell_type": "code",
   "execution_count": null,
   "id": "e21a3f2d-254f-472e-b7bd-ccb5c68db66c",
   "metadata": {},
   "outputs": [],
   "source": [
    "%load_ext lab_black\n",
    "%load_ext autoreload\n",
    "%autoreload 2"
   ]
  },
  {
   "cell_type": "code",
   "execution_count": null,
   "id": "ae9f9db8-5371-4589-9e49-3d350067afd7",
   "metadata": {},
   "outputs": [],
   "source": [
    "import os\n",
    "import shutil\n",
    "from glob import glob\n",
    "from typing import Union\n",
    "\n",
    "import boto3\n",
    "import pandas as pd\n",
    "import snowflake.connector\n",
    "from dotenv import find_dotenv, load_dotenv"
   ]
  },
  {
   "cell_type": "markdown",
   "id": "9ece0a61-4467-4076-b051-8b7c01749a56",
   "metadata": {},
   "source": [
    "## About"
   ]
  },
  {
   "cell_type": "markdown",
   "id": "0322f28d-9474-42b4-8222-a391a0587a08",
   "metadata": {},
   "source": [
    "Clean up all resources created and local data."
   ]
  },
  {
   "cell_type": "markdown",
   "id": "a05d8d34-0fa4-4660-b493-39e4bed3113a",
   "metadata": {},
   "source": [
    "## User Inputs"
   ]
  },
  {
   "cell_type": "code",
   "execution_count": null,
   "id": "7de73cb3-f32b-4cfc-b1bc-0e4a4565d418",
   "metadata": {
    "tags": [
     "parameters"
    ]
   },
   "outputs": [],
   "source": [
    "stations_db_name = \"torbikestations\"\n",
    "\n",
    "trips_table_name = \"trips\"\n",
    "station_stats_table_name = \"station_stats\"\n",
    "\n",
    "trips_stage_name = \"bikes_stage\"\n",
    "trips_file_format_name = \"COMMASEP_ONEHEADROW\"\n",
    "\n",
    "ci_run = \"no\""
   ]
  },
  {
   "cell_type": "code",
   "execution_count": null,
   "id": "edd24cad-94d4-466f-8399-93c38d4996dc",
   "metadata": {},
   "outputs": [],
   "source": [
    "if ci_run == \"no\":\n",
    "    load_dotenv(find_dotenv())\n",
    "\n",
    "\n",
    "trips_db_name = os.getenv(\"DB_NAME\")\n",
    "snowflake_dict_no_db = dict(\n",
    "    user=os.getenv(\"SNOWFLAKE_USER\"),\n",
    "    password=os.getenv(\"SNOWFLAKE_PASS\"),\n",
    "    account=os.getenv(\"SNOWFLAKE_ACCOUNT\"),\n",
    "    warehouse=os.getenv(\"SNOWFLAKE_WAREHOUSE\"),\n",
    "    role=\"sysadmin\",\n",
    ")\n",
    "snowflake_dict = dict(\n",
    "    user=os.getenv(\"SNOWFLAKE_USER\"),\n",
    "    password=os.getenv(\"SNOWFLAKE_PASS\"),\n",
    "    account=os.getenv(\"SNOWFLAKE_ACCOUNT\"),\n",
    "    warehouse=os.getenv(\"SNOWFLAKE_WAREHOUSE\"),\n",
    "    database=trips_db_name,\n",
    "    schema=os.getenv(\"SNOWFLAKE_DB_SCHEMA\"),\n",
    "    role=\"sysadmin\",\n",
    ")\n",
    "snowflake_station_stats_dict = dict(\n",
    "    user=os.getenv(\"SNOWFLAKE_USER\"),\n",
    "    password=os.getenv(\"SNOWFLAKE_PASS\"),\n",
    "    account=os.getenv(\"SNOWFLAKE_ACCOUNT\"),\n",
    "    warehouse=os.getenv(\"SNOWFLAKE_WAREHOUSE\"),\n",
    "    database=stations_db_name,\n",
    "    schema=os.getenv(\"SNOWFLAKE_DB_SCHEMA\"),\n",
    "    role=\"sysadmin\",\n",
    ")"
   ]
  },
  {
   "cell_type": "code",
   "execution_count": null,
   "id": "4a9c3251-ddb4-4be6-826a-9ceaed7dd63c",
   "metadata": {},
   "outputs": [],
   "source": [
    "aws_region = os.getenv(\"AWS_REGION\")\n",
    "account_id = (\n",
    "    boto3.client(\"sts\", region_name=aws_region).get_caller_identity().get(\"Account\")\n",
    ")"
   ]
  },
  {
   "cell_type": "code",
   "execution_count": null,
   "id": "a03a2ddc-0082-4ade-a023-a8f82753639b",
   "metadata": {},
   "outputs": [],
   "source": [
    "def show_sql_df(\n",
    "    query: str,\n",
    "    cursor,\n",
    "    table_output: bool = False,\n",
    ") -> Union[None, pd.DataFrame]:\n",
    "    cursor.execute(query)\n",
    "    if table_output:\n",
    "        colnames = [cdesc[0].lower() for cdesc in cursor.description]\n",
    "        cur_fetched = cursor.fetchall()\n",
    "        if cur_fetched:\n",
    "            df_query_output = pd.DataFrame.from_records(cur_fetched, columns=colnames)\n",
    "            display(df_query_output)\n",
    "            return df_query_output\n",
    "    return None"
   ]
  },
  {
   "cell_type": "code",
   "execution_count": null,
   "id": "9755ff0c-af1c-4357-aeb8-9b283a8b7c0f",
   "metadata": {},
   "outputs": [],
   "source": [
    "conn = snowflake.connector.connect(**snowflake_dict)\n",
    "cur = conn.cursor()"
   ]
  },
  {
   "cell_type": "markdown",
   "id": "f70d7ac4-8f6f-4419-86f1-bb272bfea9b6",
   "metadata": {},
   "source": [
    "## Delete AWS QuickSight Data Source"
   ]
  },
  {
   "cell_type": "markdown",
   "id": "a767a1b4-9452-4178-baec-66909d90c99b",
   "metadata": {},
   "source": [
    "### Create AWS Python SDK Objects for Creating QuickSight Resources"
   ]
  },
  {
   "cell_type": "code",
   "execution_count": null,
   "id": "edcb029c-4c41-4cc2-a08a-9c9bf0e98cd6",
   "metadata": {},
   "outputs": [],
   "source": [
    "qs_client_user = boto3.client(\"quicksight\", region_name=\"us-east-1\")\n",
    "qs_client = boto3.client(\"quicksight\", region_name=aws_region)"
   ]
  },
  {
   "cell_type": "markdown",
   "id": "aad90804-3a57-4ca6-9d1c-db2703d0e71f",
   "metadata": {},
   "source": [
    "### Delete Data Source"
   ]
  },
  {
   "cell_type": "code",
   "execution_count": null,
   "id": "ac1633fd-b1f8-4b9c-a26f-7f7e003a698f",
   "metadata": {},
   "outputs": [],
   "source": [
    "ds_list = [\n",
    "    ds\n",
    "    for ds in qs_client.list_data_sources(AwsAccountId=account_id)[\"DataSources\"]\n",
    "    if ds[\"Name\"] == trips_db_name\n",
    "]\n",
    "ds_list"
   ]
  },
  {
   "cell_type": "code",
   "execution_count": null,
   "id": "c720b0b1-b85a-4547-ac1d-08a1214f78a9",
   "metadata": {},
   "outputs": [],
   "source": [
    "for ds in ds_list:\n",
    "    qs_client.delete_data_source(\n",
    "        AwsAccountId=account_id, DataSourceId=ds[\"DataSourceId\"]\n",
    "    )"
   ]
  },
  {
   "cell_type": "markdown",
   "id": "dd19e771-ea12-4568-a50f-78e7238addde",
   "metadata": {},
   "source": [
    "## Delete Snowflake Resources"
   ]
  },
  {
   "cell_type": "markdown",
   "id": "6a47b98e-617e-446d-ab71-28ed2546eba4",
   "metadata": {},
   "source": [
    "### Trips Database Internal Data Stage"
   ]
  },
  {
   "cell_type": "code",
   "execution_count": null,
   "id": "b3e7c84f-9fa7-4b95-ac2b-fb0f782bc4ec",
   "metadata": {
    "tags": []
   },
   "outputs": [],
   "source": [
    "query = f\"\"\"\n",
    "        DROP STAGE IF EXISTS {trips_stage_name}\n",
    "        \"\"\"\n",
    "_ = cur.execute(query)"
   ]
  },
  {
   "cell_type": "code",
   "execution_count": null,
   "id": "1a09f56c-e123-414b-81e3-2c380e33f3c8",
   "metadata": {},
   "outputs": [],
   "source": [
    "%%time\n",
    "query = f\"\"\"\n",
    "        SHOW STAGES LIKE '{trips_stage_name}'\n",
    "        \"\"\"\n",
    "_ = show_sql_df(query, cur, True)"
   ]
  },
  {
   "cell_type": "markdown",
   "id": "2b2dafd9-2e96-4b9b-86cd-56bbcaca59bd",
   "metadata": {},
   "source": [
    "### Trips Database CSV File Format"
   ]
  },
  {
   "cell_type": "code",
   "execution_count": null,
   "id": "12b74ecb-ce54-4ef0-8667-af33b289a4b1",
   "metadata": {},
   "outputs": [],
   "source": [
    "query = f\"\"\"\n",
    "        DROP FILE FORMAT IF EXISTS {trips_file_format_name}\n",
    "        \"\"\"\n",
    "_ = cur.execute(query)"
   ]
  },
  {
   "cell_type": "code",
   "execution_count": null,
   "id": "ce7b09f6-1b68-4bc4-8f0f-56f5f6d5e166",
   "metadata": {},
   "outputs": [],
   "source": [
    "%%time\n",
    "query = f\"\"\"\n",
    "        SHOW FILE FORMATS LIKE '{trips_file_format_name}'\n",
    "        \"\"\"\n",
    "_ = show_sql_df(query, cur, True)"
   ]
  },
  {
   "cell_type": "markdown",
   "id": "a92698a2-83f8-4f6b-a45e-869ca926fdcf",
   "metadata": {},
   "source": [
    "### Trips Database Table"
   ]
  },
  {
   "cell_type": "code",
   "execution_count": null,
   "id": "3ad8f209-9e2e-48de-a52d-72453af0ebfe",
   "metadata": {
    "tags": []
   },
   "outputs": [],
   "source": [
    "query = f\"\"\"\n",
    "        DROP TABLE IF EXISTS {trips_table_name}\n",
    "        \"\"\"\n",
    "_ = cur.execute(query)"
   ]
  },
  {
   "cell_type": "code",
   "execution_count": null,
   "id": "330658a2-ea24-45b8-a1a0-d0a549b8769d",
   "metadata": {},
   "outputs": [],
   "source": [
    "%%time\n",
    "query = f\"\"\"\n",
    "        SHOW TABLES LIKE '{trips_table_name}'\n",
    "        \"\"\"\n",
    "_ = show_sql_df(query, cur, True)"
   ]
  },
  {
   "cell_type": "code",
   "execution_count": null,
   "id": "c27f0a3e-92ed-49bd-bfa2-a946b772bbf9",
   "metadata": {},
   "outputs": [],
   "source": [
    "cur.close()\n",
    "conn.close()"
   ]
  },
  {
   "cell_type": "markdown",
   "id": "540d5251-3505-41a5-a33c-58fc4be6656e",
   "metadata": {},
   "source": [
    "### Station Statistics Database Table"
   ]
  },
  {
   "cell_type": "code",
   "execution_count": null,
   "id": "d01cde17-8801-41b0-8271-5460a64b6e51",
   "metadata": {},
   "outputs": [],
   "source": [
    "conn = snowflake.connector.connect(**snowflake_station_stats_dict)\n",
    "cur = conn.cursor()"
   ]
  },
  {
   "cell_type": "code",
   "execution_count": null,
   "id": "297d27b8-f482-46e6-9245-085ef20a0b58",
   "metadata": {},
   "outputs": [],
   "source": [
    "query = f\"\"\"\n",
    "        DROP TABLE {station_stats_table_name}\n",
    "        \"\"\"\n",
    "_ = cur.execute(query)"
   ]
  },
  {
   "cell_type": "code",
   "execution_count": null,
   "id": "c5d1d554-49fb-4d14-809d-e18383eb689b",
   "metadata": {},
   "outputs": [],
   "source": [
    "%%time\n",
    "query = f\"\"\"\n",
    "        SHOW TABLES LIKE '{station_stats_table_name}'\n",
    "        \"\"\"\n",
    "_ = show_sql_df(query, cur, True)"
   ]
  },
  {
   "cell_type": "code",
   "execution_count": null,
   "id": "33b390dc-47b7-4934-9b3b-b9b3476f7cc2",
   "metadata": {},
   "outputs": [],
   "source": [
    "cur.close()\n",
    "conn.close()"
   ]
  },
  {
   "cell_type": "markdown",
   "id": "4f0f6a81-f010-46fe-a05f-3cd7e3d84c4a",
   "metadata": {},
   "source": [
    "### Databases"
   ]
  },
  {
   "cell_type": "code",
   "execution_count": null,
   "id": "b59501cb-dec1-4ac0-b386-3fe18a7e999b",
   "metadata": {},
   "outputs": [],
   "source": [
    "conn = snowflake.connector.connect(**snowflake_dict_no_db)\n",
    "cur = conn.cursor()"
   ]
  },
  {
   "cell_type": "code",
   "execution_count": null,
   "id": "a1a3d34a-dd81-457f-8d53-79f249dc98cb",
   "metadata": {},
   "outputs": [],
   "source": [
    "for database_name in [trips_db_name, stations_db_name]:\n",
    "    query = f\"\"\"\n",
    "            DROP DATABASE {database_name}\n",
    "            \"\"\"\n",
    "    _ = cur.execute(query)"
   ]
  },
  {
   "cell_type": "code",
   "execution_count": null,
   "id": "6ee8bdc8-3ae7-40e3-b29c-0335a9f72f93",
   "metadata": {},
   "outputs": [],
   "source": [
    "%%time\n",
    "query = \"\"\"\n",
    "        SHOW DATABASES\n",
    "        \"\"\"\n",
    "df_databases = show_sql_df(query, cur, True)"
   ]
  },
  {
   "cell_type": "code",
   "execution_count": null,
   "id": "81ec1aa6-b28d-4b22-9cdd-93dfb8cfd968",
   "metadata": {},
   "outputs": [],
   "source": [
    "database_list = [trips_db_name, stations_db_name]\n",
    "assert df_databases.query(\"name.isin(@database_list)\").empty"
   ]
  },
  {
   "cell_type": "code",
   "execution_count": null,
   "id": "3c8025fc-f684-430b-a049-c6d04bbc54e6",
   "metadata": {},
   "outputs": [],
   "source": [
    "cur.close()\n",
    "conn.close()"
   ]
  },
  {
   "cell_type": "markdown",
   "id": "40cd31b4-1597-4066-91e8-e26568f50f9b",
   "metadata": {},
   "source": [
    "## Delete Local Data Files"
   ]
  },
  {
   "cell_type": "markdown",
   "id": "677d124d-2c13-4986-8927-558a8246294e",
   "metadata": {},
   "source": [
    "### Raw Bikeshare Trips Data Files"
   ]
  },
  {
   "cell_type": "code",
   "execution_count": null,
   "id": "a44b2b09-938c-473b-9e59-1c4bff6675b4",
   "metadata": {},
   "outputs": [],
   "source": [
    "for f in glob(\"data/raw/*.csv\"):\n",
    "    os.remove(f)"
   ]
  },
  {
   "cell_type": "markdown",
   "id": "4138590a-ce52-42a7-8fbb-ff0454427aaf",
   "metadata": {},
   "source": [
    "### Raw Files for Supplementary Datasets"
   ]
  },
  {
   "cell_type": "code",
   "execution_count": null,
   "id": "fc053406-c6c7-4cbd-8bc6-ff956bd08688",
   "metadata": {},
   "outputs": [],
   "source": [
    "raw_data_dirs = glob(\"data/raw/*\")\n",
    "for pdir in raw_data_dirs:\n",
    "    if os.path.isdir(pdir):\n",
    "        shutil.rmtree(pdir)"
   ]
  }
 ],
 "metadata": {
  "kernelspec": {
   "display_name": "Python 3 (ipykernel)",
   "language": "python",
   "name": "python3"
  },
  "language_info": {
   "codemirror_mode": {
    "name": "ipython",
    "version": 3
   },
   "file_extension": ".py",
   "mimetype": "text/x-python",
   "name": "python",
   "nbconvert_exporter": "python",
   "pygments_lexer": "ipython3",
   "version": "3.9.7"
  }
 },
 "nbformat": 4,
 "nbformat_minor": 5
}
