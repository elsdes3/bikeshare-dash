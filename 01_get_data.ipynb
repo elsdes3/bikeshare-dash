{
 "cells": [
  {
   "cell_type": "markdown",
   "id": "46260cb9-ebb1-4f7b-b9bb-e58718344bf9",
   "metadata": {},
   "source": [
    "# Get Data"
   ]
  },
  {
   "cell_type": "code",
   "execution_count": null,
   "id": "e4cda43c-d252-4987-8e70-fefa3d1b71a4",
   "metadata": {},
   "outputs": [],
   "source": [
    "%load_ext lab_black\n",
    "%load_ext autoreload\n",
    "%autoreload 2"
   ]
  },
  {
   "cell_type": "code",
   "execution_count": null,
   "id": "e1b71276-e3dd-4781-8e93-c912dab80967",
   "metadata": {},
   "outputs": [],
   "source": [
    "import os\n",
    "from glob import glob\n",
    "\n",
    "import boto3\n",
    "import geopandas as gpd\n",
    "import pandas as pd\n",
    "import pandera as pa\n",
    "from dotenv import find_dotenv, load_dotenv"
   ]
  },
  {
   "cell_type": "code",
   "execution_count": null,
   "id": "9fe64605-798a-4169-99d6-8001fb576ea2",
   "metadata": {},
   "outputs": [],
   "source": [
    "%aimport src.aggregate_data\n",
    "import src.aggregate_data as ad\n",
    "\n",
    "%aimport src.city_neighbourhoods\n",
    "import src.city_neighbourhoods as cn\n",
    "\n",
    "%aimport src.city_pub_data\n",
    "import src.city_pub_data as cpd\n",
    "\n",
    "%aimport src.process_trips\n",
    "from src.process_trips import process_trips_data\n",
    "\n",
    "%aimport src.stations_metadata\n",
    "from src.stations_metadata import get_stations_metadata, transform_metadata\n",
    "\n",
    "%aimport src.trips\n",
    "import src.trips as bt\n",
    "\n",
    "%aimport src.utils\n",
    "from src.utils import (\n",
    "    log_prefect,\n",
    "    summarize_df,\n",
    "    save_data_to_parquet_file,\n",
    ")\n",
    "\n",
    "%aimport src.validators\n",
    "from src.validators import validate_data_download_status, validate_merged_data"
   ]
  },
  {
   "cell_type": "markdown",
   "id": "05184d09-89c9-4709-a97b-b9a3282e812c",
   "metadata": {},
   "source": [
    "<a id='table-of-contents'></a>\n",
    "\n",
    "## [Table of Contents](#table-of-contents)"
   ]
  },
  {
   "cell_type": "markdown",
   "id": "b2e56cd6-0ce2-4df7-bbce-e0ea46c7ea55",
   "metadata": {},
   "source": [
    "1. [About](#about)\n",
    "   - 1.1. [Overview](#overview)\n",
    "   - 1.2. [Data Retrieval Workflow](#data-retrieval-workflow)\n",
    "   - 1.3. [Constraints](#constraints)\n",
    "2. [User Inputs](#user-inputs)\n",
    "3. [Get Supplementary Datasets](#get-supplementary-datasets)\n",
    "   - 3.1. [Stations Metadata](#stations-metadata)\n",
    "   - 3.2. [Neighbourhood Boundary and Land Area Data](#neighbourhood-boundary-and-land-area-data)\n",
    "   - 3.3. [Colleges and Universities](#colleges-and-universities)\n",
    "   - 3.4. [Aggregations by Neighbourhood - Get Neighbourhood Data for Supplementary Datasets](#aggregations-by-neighbourhood---get-neighbourhood-data-for-supplementary-datasets)\n",
    "     - 3.4.1. [Colleges and Universities](#colleges-and-universities)\n",
    "   - 3.5. [Aggregations by Neighbourhood - Merge Neighbourhood Aggregations with GeoData](#aggregations-by-neighbourhood---merge-neighbourhood-aggregations-for-supplememtary-datasets)\n",
    "   - 3.6. [Aggregations by Neighbourhood - Merge Stations Metadata with Aggregated Neighbourhood Stats](#aggregations-by-neighbourhood---merge-stations-metadata-with-aggregated-neighbourhood-stats)\n",
    "4. [Get Bikeshare Trips Data](#get-bikeshare-trips-data)\n",
    "   - 4.1. [Get URLs for Raw Trips Data Files](#get-urls-for-raw-trips-data-files)\n",
    "   - 4.2. [Download Raw Trips Data Files](#download-raw-trips-data-files)\n",
    "   - 4.3. [Load Single-Month of Trips Data](#load-single-month-of-trips-data)\n",
    "   - 4.4. [Process Single-Month of Trips Data](#process-single-month-of-trips-data)\n",
    "5. [Data Download End-to-End Workflow](#data-download-end-to-end-workflow)\n",
    "   - 5.1. [Download Supplementary Datasets](#download-supplementary-datasets)\n",
    "   - 5.2. [Download Bikeshare Trips Data](#download-bikeshare-trips-data)\n",
    "6. [To Be Done](#to-be-done)"
   ]
  },
  {
   "cell_type": "markdown",
   "id": "3f6ee921-5cd9-49d2-993d-e245d1f37524",
   "metadata": {},
   "source": [
    "<a id='about'></a>\n",
    "\n",
    "## 1. [About](#about)"
   ]
  },
  {
   "cell_type": "markdown",
   "id": "fb4b79e1-5ea9-4d5e-ae5c-faa0c057f328",
   "metadata": {},
   "source": [
    "Retrieve data needed for building the dashboard. Aggregate the trips data and save to a `.parquet` file which can be loaded and used by the dashboard application."
   ]
  },
  {
   "cell_type": "markdown",
   "id": "ca26ea4a-f6a5-4d8f-b1aa-e752d76be52a",
   "metadata": {},
   "source": [
    "<a id='overview'></a>\n",
    "\n",
    "### 1.1. [Overview](#overview)"
   ]
  },
  {
   "cell_type": "markdown",
   "id": "a7211aa8-5411-4175-be63-60905f25165a",
   "metadata": {},
   "source": [
    "Retrieve the following datasets\n",
    "- Toronto Bikeshare [trips (ridership) data](https://open.toronto.ca/dataset/bike-share-toronto-ridership-data/)\n",
    "- three supplementary datasets\n",
    "  - [city neighbourhood boundaries](https://www.toronto.ca/city-government/data-research-maps/neighbourhoods-communities/neighbourhood-profiles/about-toronto-neighbourhoods/)\n",
    "  - number of colleges/universities per city neighbourhood\n",
    "  - [bikeshare stations metadata](https://open.toronto.ca/dataset/bike-share-toronto/)\n",
    "\n",
    "  and perform the following\n",
    "  - combine all datasets\n",
    "  - aggregate bikeshare trips in the combined data by\n",
    "    - city neighbourhood\n",
    "    - type of bikeshare user\n",
    "    - `datetime` attributes (year, month, weekday, hour)"
   ]
  },
  {
   "cell_type": "markdown",
   "id": "84db440f-528f-4784-85ae-5f8ceefc1987",
   "metadata": {},
   "source": [
    "<a id='data-retrieval-workflow'></a>\n",
    "\n",
    "### 1.2. [Data Retrieval Workflow](#data-retrieval-workflow)"
   ]
  },
  {
   "cell_type": "markdown",
   "id": "311588f5-5e83-4f7e-973f-8fef55fbacc5",
   "metadata": {},
   "source": [
    "This notebook covers two workflows to retrieve the trips data\n",
    "- interactive workflow\n",
    "  - only retrieves data for a single month\n",
    "- end-to-end workflow\n",
    "  - retrieves data for multiple months\n",
    "\n",
    "If trips (ridership) data for a single year has been previously retrieved, then the workflow must check if that data is outdated before re-downloading trips data for the same year. This functionality is implemented in the end-to-end workflow in this notebook."
   ]
  },
  {
   "cell_type": "markdown",
   "id": "8c04c80f-fcf0-4bdd-884c-dd16d8293acf",
   "metadata": {},
   "source": [
    "<a id='constraints'></a>\n",
    "\n",
    "### 1.3. [Constraints](#constraints)"
   ]
  },
  {
   "cell_type": "markdown",
   "id": "0d113cfe-9fe9-442b-ad58-27f7f9fb48be",
   "metadata": {},
   "source": [
    "1. Currently, **only one** of the following workflows shown in this notebook\n",
    "   - interactive workflow\n",
    "     - Get Supplementary Datasets\n",
    "     - Get Bikeshare Trips Data\n",
    "   - end-to-end workflow\n",
    "     - Data Download End-to-End Workflow\n",
    "\n",
    "   can be run at a time.\n",
    "2. The notebook has only been verified to run using a single year of trips data at a time (single year in `years_wanted = [...]`). The functionality has not been verified for simultaneously retrieving multiple years of data (eg. `years_wanted = [2020, 2021]`)."
   ]
  },
  {
   "cell_type": "markdown",
   "id": "beed9513-8291-4bd4-9e70-581a184a97a6",
   "metadata": {},
   "source": [
    "<a id='user-inputs'></a>\n",
    "\n",
    "## 2. [User Inputs](#user-inputs)"
   ]
  },
  {
   "cell_type": "code",
   "execution_count": null,
   "id": "3b0bda16-31f3-47d8-8b36-004cfc632d53",
   "metadata": {
    "tags": [
     "parameters"
    ]
   },
   "outputs": [],
   "source": [
    "# Datasets\n",
    "# # City's Open Data Portal\n",
    "url = \"https://ckan0.cf.opendata.inter.prod-toronto.ca/api/3/action/package_show\"\n",
    "# # Bikeshare Ridership\n",
    "trips_params = {\"id\": \"7e876c24-177c-4605-9cef-e50dd74c617f\"}\n",
    "years_wanted = [2021]\n",
    "# # Neighbourhood Boundaries\n",
    "neigh_boundary_params = {\"id\": \"4def3f65-2a65-4a4f-83c4-b2a4aed72d46\"}\n",
    "# # Stations Metadata\n",
    "about_params = {\"id\": \"2b44db0d-eea9-442d-b038-79335368ad5a\"}\n",
    "stations_cols_wanted = [\n",
    "    \"station_id\",\n",
    "    \"name\",\n",
    "    \"physical_configuration\",\n",
    "    \"lat\",\n",
    "    \"lon\",\n",
    "    \"altitude\",\n",
    "    \"address\",\n",
    "    \"capacity\",\n",
    "    \"physicalkey\",\n",
    "    \"transitcard\",\n",
    "    \"creditcard\",\n",
    "    \"phone\",\n",
    "]\n",
    "\n",
    "# Neighbourhood boundary columns to keep\n",
    "neigh_cols_to_show = [\n",
    "    \"AREA_ID\",\n",
    "    \"AREA_SHORT_CODE\",\n",
    "    \"AREA_LONG_CODE\",\n",
    "    \"AREA_NAME\",\n",
    "    \"Shape__Area\",\n",
    "    \"AREA_LATITUDE\",\n",
    "    \"AREA_LONGITUDE\",\n",
    "    \"geometry\",\n",
    "]\n",
    "\n",
    "# Ridership datetime columns\n",
    "date_cols = [\"Start Time\", \"End Time\"]\n",
    "\n",
    "# Ridership Columns in which to drop missing values\n",
    "nan_cols = [\n",
    "    \"START_STATION_ID\",\n",
    "    \"START_STATION_NAME\",\n",
    "]\n",
    "\n",
    "# Ridership Columns with duplicates, in which to drop rows\n",
    "duplicated_cols = [\"TRIP_ID\", \"START_TIME\"]\n",
    "\n",
    "# Geodata columns to use when checking if a point lies\n",
    "# within a neighbourhood\n",
    "geo_cols = [\"AREA_NAME\", \"geometry\", \"Shape__Area\"]\n",
    "\n",
    "# Directories in which to store data\n",
    "raw_data_dir = \"data/raw\"\n",
    "processed_data_dir = \"data/processed\"\n",
    "\n",
    "# Name of .parquet file that will be created with the aggregated data\n",
    "parquet_filename = \"agg_data.parquet.gzip\"\n",
    "\n",
    "ci_run = \"no\""
   ]
  },
  {
   "cell_type": "code",
   "execution_count": null,
   "id": "4be29bc9-2a02-4fed-881e-c0a02b3a1a54",
   "metadata": {},
   "outputs": [],
   "source": [
    "raw_data_filepath = os.path.join(raw_data_dir, parquet_filename)\n",
    "updated_data_filepath = os.path.join(processed_data_dir, parquet_filename)\n",
    "\n",
    "# Ridership dtypes dict\n",
    "dtypes_dict_trips = {\n",
    "    \"Trip Id\": pd.Int64Dtype(),\n",
    "    \"Trip Duration\": pd.Int64Dtype(),\n",
    "    \"Start Station Id\": pd.Int64Dtype(),\n",
    "    \"Start Station Name\": pd.StringDtype(),\n",
    "    \"User Type\": pd.StringDtype(),\n",
    "}"
   ]
  },
  {
   "cell_type": "markdown",
   "id": "dfb8542a-dafb-4d55-b009-285b480249f5",
   "metadata": {},
   "source": [
    "<a id='get-supplementary-datasets'></a>\n",
    "\n",
    "## 3. [Get Supplementary Datasets](#get-supplementary-datasets)"
   ]
  },
  {
   "cell_type": "markdown",
   "id": "9632de1a-01a1-4e91-91be-fe606d6eeb2f",
   "metadata": {},
   "source": [
    "<a id='stations-metadata'></a>\n",
    "\n",
    "### 3.1. [Stations Metadata](#stations-metadata)"
   ]
  },
  {
   "cell_type": "code",
   "execution_count": null,
   "id": "ee515f52-331b-49c5-b487-0f344a7c43e4",
   "metadata": {},
   "outputs": [],
   "source": [
    "%%time\n",
    "df_stations = get_stations_metadata(url, about_params)\n",
    "df_stations = transform_metadata(df_stations, stations_cols_wanted)\n",
    "display(df_stations.head(2))\n",
    "display(df_stations.dtypes.rename(\"dtype\").to_frame())"
   ]
  },
  {
   "cell_type": "markdown",
   "id": "042be410-ee39-4bc2-9f23-a717ee7fb10d",
   "metadata": {},
   "source": [
    "<a id='neighbourhood-boundary-and-land-area-data'></a>\n",
    "\n",
    "### 3.2. [Neighbourhood Boundary and Land Area Data](#neighbourhood-boundary-and-land-area-data)"
   ]
  },
  {
   "cell_type": "code",
   "execution_count": null,
   "id": "d3410a2a-7121-48de-b5ce-2a23c726891f",
   "metadata": {},
   "outputs": [],
   "source": [
    "%%time\n",
    "neigh_boundary_params = {\"id\": \"4def3f65-2a65-4a4f-83c4-b2a4aed72d46\"}\n",
    "gdf = cpd.get_neighbourhood_boundary_land_area_data(url, neigh_boundary_params, neigh_cols_to_show)\n",
    "gdf[\n",
    "    gdf[\"AREA_NAME\"].str.contains(\n",
    "        \"Wychwood|Yonge-Eglinton|Yonge-St.|York Univ|Yorkdale-Glen\"\n",
    "    )\n",
    "].sort_values(by=[\"AREA_NAME\"])"
   ]
  },
  {
   "cell_type": "markdown",
   "id": "39cd6b04-d5a5-4e9d-a4ed-4c1ad7a566bb",
   "metadata": {},
   "source": [
    "In order to use the correct CRS for allowing an area calculation in square km, we'll get the current EPSG ([link](https://epsg.io/4326)) from the geodata"
   ]
  },
  {
   "cell_type": "code",
   "execution_count": null,
   "id": "2c6e9f39-b43e-400e-9807-668b187cc396",
   "metadata": {},
   "outputs": [],
   "source": [
    "print(gdf.crs)"
   ]
  },
  {
   "cell_type": "markdown",
   "id": "a7274b5b-9b30-4fdf-8819-8b3a3d36bc05",
   "metadata": {
    "tags": []
   },
   "source": [
    "<a id='neighbourhood-boundary-and-land-area-data'></a>\n",
    "\n",
    "### 3.3. [Colleges and Universities](#colleges-and-universities)"
   ]
  },
  {
   "cell_type": "code",
   "execution_count": null,
   "id": "fc666242-e581-473d-91cd-2facea485726",
   "metadata": {},
   "outputs": [],
   "source": [
    "df_coll_univ = cpd.get_coll_univ_locations(False)"
   ]
  },
  {
   "cell_type": "markdown",
   "id": "4c9ac299-a351-45d9-aa24-ae9b5915d53f",
   "metadata": {},
   "source": [
    "<a id='aggregations-by-neighbourhood---get-neighbourhood-data-for-supplementary-datasets'></a>\n",
    "\n",
    "### 3.4. [Aggregations by Neighbourhood - Get Neighbourhood Data for Supplementary Datasets](#aggregations-by-neighbourhood---get-neighbourhood-data-for-supplementary-datasets)"
   ]
  },
  {
   "cell_type": "markdown",
   "id": "38a783f0-fd8e-4224-9ce5-0eb55b5e5335",
   "metadata": {},
   "source": [
    "<a id='colleges-and-universities'></a>\n",
    "\n",
    "#### 3.4.1. [Colleges and Universities](#colleges-and-universities)"
   ]
  },
  {
   "cell_type": "code",
   "execution_count": null,
   "id": "6f42e894-60d6-4cb6-b5b7-2ff8adf88483",
   "metadata": {
    "tags": []
   },
   "outputs": [],
   "source": [
    "%%time\n",
    "df_coll_univ_new = pa.check_output(ad.coll_univ_schema_new)(cn.get_data_with_neighbourhood)(\n",
    "    gdf[geo_cols],\n",
    "    df_coll_univ,\n",
    "    \"lat\",\n",
    "    \"lon\",\n",
    "    \"institution_id\",\n",
    ")\n",
    "display(df_coll_univ_new.head(2))\n",
    "display(df_coll_univ_new.dtypes.to_frame())"
   ]
  },
  {
   "cell_type": "markdown",
   "id": "8168eefe-b0f9-4a2c-adcc-2f746a0b5719",
   "metadata": {},
   "source": [
    "<a id='aggregations-by-neighbourhood---merge-neighbourhood-aggregations-for-supplememtary-datasets'></a>\n",
    "\n",
    "### 3.5. [Aggregations by Neighbourhood - Merge Neighbourhood Aggregations with GeoData](#aggregations-by-neighbourhood---merge-neighbourhood-aggregations-for-supplememtary-datasets)"
   ]
  },
  {
   "cell_type": "code",
   "execution_count": null,
   "id": "6d8620a8-37ae-4e83-832c-a03a21f2d3fa",
   "metadata": {},
   "outputs": [],
   "source": [
    "%%time\n",
    "df_neigh_stats = ad.combine_neigh_stats_v2(\n",
    "    gdf,\n",
    "    df_coll_univ_new,\n",
    ")\n",
    "display(df_neigh_stats.head())\n",
    "display(df_neigh_stats.dtypes.to_frame())"
   ]
  },
  {
   "cell_type": "markdown",
   "id": "38d8e4e2-06c7-4a70-b092-8b4b13223e6e",
   "metadata": {
    "tags": []
   },
   "source": [
    "<a id='aggregations-by-neighbourhood---merge-stations-metadata-with-aggregated-neighbourhood-stats'></a>\n",
    "\n",
    "### 3.6. [Aggregations by Neighbourhood - Merge Stations Metadata with Aggregated Neighbourhood Stats](#aggregations-by-neighbourhood---merge-stations-metadata-with-aggregated-neighbourhood-stats)"
   ]
  },
  {
   "cell_type": "code",
   "execution_count": null,
   "id": "b7d8594a-35cb-479d-9f91-6919620686d6",
   "metadata": {},
   "outputs": [],
   "source": [
    "display(df_stations.head(2))\n",
    "display(gdf[geo_cols].head(2))"
   ]
  },
  {
   "cell_type": "markdown",
   "id": "979d1707-fa40-45a9-aff4-6b0d34586682",
   "metadata": {},
   "source": [
    "Append the neighbourhood containing each bikeshare station to the station metadata"
   ]
  },
  {
   "cell_type": "code",
   "execution_count": null,
   "id": "ed4744aa-a166-4c91-bd71-6905830711d8",
   "metadata": {
    "tags": []
   },
   "outputs": [],
   "source": [
    "%%time\n",
    "df_stations_new = pa.check_output(ad.stations_schema_merged)(cn.get_data_with_neighbourhood)(\n",
    "    gdf[geo_cols],\n",
    "    df_stations,\n",
    "    \"lat\",\n",
    "    \"lon\",\n",
    "    \"station_id\",\n",
    ")\n",
    "display(df_stations_new.head(2))\n",
    "display(df_stations_new.dtypes.rename(\"dtype\").to_frame())"
   ]
  },
  {
   "cell_type": "markdown",
   "id": "24ae7672-499f-47ff-997f-077efc236a72",
   "metadata": {},
   "source": [
    "Merge the modified stations metadata with the neighbourhood stats"
   ]
  },
  {
   "cell_type": "code",
   "execution_count": null,
   "id": "a126ea59-6619-40c1-9d00-30b9bcfd6876",
   "metadata": {},
   "outputs": [],
   "source": [
    "display(df_stations_new.head(2))\n",
    "display(df_neigh_stats.head(2))"
   ]
  },
  {
   "cell_type": "code",
   "execution_count": null,
   "id": "dfb8f0fc-7efd-4aa8-aafc-f980f1f9714a",
   "metadata": {
    "tags": []
   },
   "outputs": [],
   "source": [
    "%%time\n",
    "df_stations_new = ad.combine_stations_metadata_neighbourhood_v2(df_stations_new, df_neigh_stats)\n",
    "print(df_stations_new.shape)\n",
    "with pd.option_context(\"display.max_rows\", None, \"display.max_columns\", None):\n",
    "    display(df_stations_new.head(4))\n",
    "display(df_stations_new.dtypes.rename(\"dtype\").to_frame())"
   ]
  },
  {
   "cell_type": "markdown",
   "id": "1522589b-aeac-47c2-9a0e-9cdc275f2458",
   "metadata": {},
   "source": [
    "Show the frequency of stations based on a subset of station characteristics"
   ]
  },
  {
   "cell_type": "code",
   "execution_count": null,
   "id": "c582b70c-b4f3-46b2-a4da-2cee78cce602",
   "metadata": {},
   "outputs": [],
   "source": [
    "for col in [\n",
    "    \"CAPACITY\",\n",
    "    \"PHYSICAL_CONFIGURATION\",\n",
    "    \"PHYSICALKEY\",\n",
    "    \"TRANSITCARD\",\n",
    "    \"CREDITCARD\",\n",
    "    \"PHONE\",\n",
    "]:\n",
    "    display(df_stations_new[col].value_counts().to_frame())"
   ]
  },
  {
   "cell_type": "markdown",
   "id": "145a15f1-25b7-4287-a8f1-7e32b8feb90a",
   "metadata": {},
   "source": [
    "**Observations**\n",
    "1. We will keep all stations, without filtering out trips departing from stations based on the sub-categories of these characteristics of the stations."
   ]
  },
  {
   "cell_type": "markdown",
   "id": "fa483009-3c68-4666-b503-46090df3fd41",
   "metadata": {},
   "source": [
    "<a id='get-bikeshare-trips-data'></a>\n",
    "\n",
    "## 4. [Get Bikeshare Trips Data](#get-bikeshare-trips-data)"
   ]
  },
  {
   "cell_type": "markdown",
   "id": "966a090b-4745-44d5-b76c-4b6ef6f45fc0",
   "metadata": {},
   "source": [
    "<a id='get-urls-for-raw-trips-data-files'></a>\n",
    "\n",
    "### 4.1. [Get URLs for Raw Trips Data Files](#get-urls-for-raw-trips-data-files)"
   ]
  },
  {
   "cell_type": "code",
   "execution_count": null,
   "id": "5e1b459e-a3d5-4ddd-913e-7cf241fc2b3f",
   "metadata": {
    "tags": []
   },
   "outputs": [],
   "source": [
    "%%time\n",
    "df_all_urls = bt.get_file_urls(url, trips_params, years_wanted)\n",
    "df_all_urls"
   ]
  },
  {
   "cell_type": "markdown",
   "id": "6c2eabdb-f57b-411a-8219-97b825ec6591",
   "metadata": {},
   "source": [
    "<a id='download-raw-trips-data-files'></a>\n",
    "\n",
    "### 4.2. [Download Raw Trips Data Files](#download-raw-trips-data-files)"
   ]
  },
  {
   "cell_type": "markdown",
   "id": "9b29e11a-ed00-420b-a299-4e78afff83ea",
   "metadata": {},
   "source": [
    "Check if a local `.parquet` file exists with trips data and perform two follow-up actions based on this check\n",
    "- if the `.parquet` file does exist, check if the trips data in that file is outdated compared to the data in the zip file at the above url\n",
    "- for the first run of this notebook, the local `.parquet` file will not exist so the contents of the zip file will be extracted"
   ]
  },
  {
   "cell_type": "code",
   "execution_count": null,
   "id": "39a2f33f-3589-4e05-9c3d-30fca642de20",
   "metadata": {},
   "outputs": [],
   "source": [
    "%%time\n",
    "df_status = bt.get_data_zip_file_download_status(df_all_urls, raw_data_dir, False)\n",
    "display(df_status)\n",
    "display(df_status.dtypes.rename(\"dtype\").to_frame())"
   ]
  },
  {
   "cell_type": "markdown",
   "id": "d9e965a6-65f2-486e-b7cd-564593bede50",
   "metadata": {},
   "source": [
    "Get a list of all CSV files that were extracted"
   ]
  },
  {
   "cell_type": "code",
   "execution_count": null,
   "id": "f6f7d230-5940-4c65-9e8e-d873f8214aa9",
   "metadata": {},
   "outputs": [],
   "source": [
    "csvs = bt.get_local_csv_list(raw_data_dir, years_wanted)\n",
    "csvs"
   ]
  },
  {
   "cell_type": "markdown",
   "id": "71e2165b-0a10-4db9-b6b3-b509d22cefbb",
   "metadata": {},
   "source": [
    "<a id='load-single-month-of-trips-data'></a>\n",
    "\n",
    "### 4.3. [Load Single-Month of Trips Data](#load-single-month-of-trips-data)"
   ]
  },
  {
   "cell_type": "markdown",
   "id": "7c2d34c6-8a69-4949-8219-f94988f7f599",
   "metadata": {},
   "source": [
    "Select a single month of trips data (a single CSV file) for processing and get the filepath for that CSV file"
   ]
  },
  {
   "cell_type": "code",
   "execution_count": null,
   "id": "497fbc38-e847-43d8-b709-61dc1fae3781",
   "metadata": {
    "tags": []
   },
   "outputs": [],
   "source": [
    "csv_filepath = csvs[11]"
   ]
  },
  {
   "cell_type": "markdown",
   "id": "313422dd-11f0-4e55-80cc-f2314a09c4ae",
   "metadata": {},
   "source": [
    "Get the name of the zip file from the full filepath"
   ]
  },
  {
   "cell_type": "code",
   "execution_count": null,
   "id": "d1758710-ba33-496b-8ef5-0ad68d2a365e",
   "metadata": {
    "tags": []
   },
   "outputs": [],
   "source": [
    "csv_file = os.path.basename(csv_filepath)"
   ]
  },
  {
   "cell_type": "markdown",
   "id": "0b390a6c-b3ea-44b2-a0b4-62310aa4cccd",
   "metadata": {},
   "source": [
    "Extract attributes from the check (for outdated trips data) that was performed above"
   ]
  },
  {
   "cell_type": "code",
   "execution_count": null,
   "id": "3d774a4e-4109-40a4-8b95-265955e40bef",
   "metadata": {
    "tags": []
   },
   "outputs": [],
   "source": [
    "cols = [\n",
    "    \"trips_file_name\",\n",
    "    \"downloaded_file\",\n",
    "    \"parquet_file_exists\",\n",
    "    \"parquet_file_outdated\",\n",
    "    \"last_modified_opendata\",\n",
    "]\n",
    "zip_file, downloaded_file, has_parquet, parquet_file_outdated_check, last_mod = (\n",
    "    df_status[cols].squeeze().tolist()\n",
    ")"
   ]
  },
  {
   "cell_type": "markdown",
   "id": "00600615-a620-4c21-898e-c8b6b485f33f",
   "metadata": {},
   "source": [
    "Read in the trips data from the CSV for the selected month"
   ]
  },
  {
   "cell_type": "code",
   "execution_count": null,
   "id": "36338975-dd92-48e2-a45c-396febcfdd44",
   "metadata": {},
   "outputs": [],
   "source": [
    "df = bt.get_single_ridership_data_file(\n",
    "    csv_filepath,\n",
    "    dtypes_dict_trips,\n",
    "    date_cols,\n",
    "    nan_cols,\n",
    "    duplicated_cols,\n",
    ")"
   ]
  },
  {
   "cell_type": "markdown",
   "id": "de0ed00e-fec2-4061-bbb9-8517071267d4",
   "metadata": {},
   "source": [
    "<a id='process-single-month-of-trips-data'></a>\n",
    "\n",
    "### 4.4. [Process Single-Month of Trips Data](#process-single-month-of-trips-data)"
   ]
  },
  {
   "cell_type": "markdown",
   "id": "85076ede-301e-473f-b074-ef2d29a7a195",
   "metadata": {},
   "source": [
    "Perform data processing, including extracting `datetime` attributes from the trips data"
   ]
  },
  {
   "cell_type": "code",
   "execution_count": null,
   "id": "8204a428-952e-4fd2-a92b-a4221648b736",
   "metadata": {},
   "outputs": [],
   "source": [
    "%%time\n",
    "df = process_trips_data(df)\n",
    "summarize_df(df)"
   ]
  },
  {
   "cell_type": "code",
   "execution_count": null,
   "id": "77df4207-064b-4f51-9d21-a4a650cccc0f",
   "metadata": {},
   "outputs": [],
   "source": [
    "display(df.head(2))\n",
    "display(df_stations_new.head(2))\n",
    "display(df.dtypes.rename(\"dtype\").to_frame())\n",
    "display(df_stations_new.dtypes.rename(\"dtype\").to_frame())"
   ]
  },
  {
   "cell_type": "markdown",
   "id": "31b2a11f-f665-4e8a-ada3-b8147c850022",
   "metadata": {},
   "source": [
    "Combine metadata and trips data"
   ]
  },
  {
   "cell_type": "code",
   "execution_count": null,
   "id": "2df6dc23-4073-419b-ab4e-e350f61cbbb3",
   "metadata": {
    "tags": []
   },
   "outputs": [],
   "source": [
    "%%time\n",
    "df_merged = ad.merge_trips_neighbourhood_stats(df, df_stations_new)\n",
    "validate_merged_data(df_merged, False)\n",
    "display(df_merged.head(2))\n",
    "display(df_merged.dtypes.rename(\"dtype\").to_frame())"
   ]
  },
  {
   "cell_type": "markdown",
   "id": "c9dac7a2-a75a-4814-a906-f3490196ffe0",
   "metadata": {},
   "source": [
    "Count bikeshare trips by station, usertype and `datetime` attributes"
   ]
  },
  {
   "cell_type": "code",
   "execution_count": null,
   "id": "70a74b46-de53-4d0b-8c85-d4ce36a74d3e",
   "metadata": {
    "tags": []
   },
   "outputs": [],
   "source": [
    "%%time\n",
    "df_agg = ad.aggregate_merged_data(df_merged, zip_file, downloaded_file, csv_file, last_mod)\n",
    "display(df_agg.head(3))\n",
    "display(df_agg.dtypes.rename(\"dtype\").to_frame())"
   ]
  },
  {
   "cell_type": "markdown",
   "id": "8522c58b-e66c-4a89-b821-5aedde12ed1f",
   "metadata": {},
   "source": [
    "Delete all local data files"
   ]
  },
  {
   "cell_type": "code",
   "execution_count": null,
   "id": "ee51035c-88ae-48dd-b514-43b8bb772233",
   "metadata": {},
   "outputs": [],
   "source": [
    "for f in csvs + glob(os.path.join(raw_data_dir, \"*.zip\")):\n",
    "    os.remove(f)"
   ]
  },
  {
   "cell_type": "markdown",
   "id": "98caffe4-0f76-4eb5-8ccc-e14d9da5060e",
   "metadata": {},
   "source": [
    "<a id='data-download-end-to-end-workflow'></a>\n",
    "\n",
    "## 5. [Data Download End-to-End Workflow](#data-download-end-to-end-workflow)"
   ]
  },
  {
   "cell_type": "markdown",
   "id": "70e479ac-3098-48d9-8f5d-4d80af09705a",
   "metadata": {},
   "source": [
    "<a id='download-supplementary-datasets'></a>\n",
    "\n",
    "### 5.1. [Download Supplementary Datasets](#download-supplementary-datasets)"
   ]
  },
  {
   "cell_type": "code",
   "execution_count": null,
   "id": "225b303c-59e6-4ff5-818f-c8e8ebccea85",
   "metadata": {},
   "outputs": [],
   "source": [
    "%%time\n",
    "# Get metadata about bikeshare station locations\n",
    "df_stations = get_stations_metadata(url, about_params)\n",
    "df_stations = transform_metadata(df_stations, stations_cols_wanted)\n",
    "\n",
    "# Get neighbourhood boundary metadata\n",
    "gdf = cpd.get_neighbourhood_boundary_land_area_data(url, neigh_boundary_params, neigh_cols_to_show)\n",
    "\n",
    "# Get colleges and universities within the city\n",
    "df_coll_univ = cpd.get_coll_univ_locations()\n",
    "\n",
    "# Get neighbourhood containing college and university locations\n",
    "df_coll_univ_new = pa.check_output(ad.coll_univ_schema_new)(cn.get_data_with_neighbourhood)(\n",
    "    gdf[geo_cols],\n",
    "    df_coll_univ,\n",
    "    \"lat\",\n",
    "    \"lon\",\n",
    "    \"institution_id\",\n",
    ")\n",
    "\n",
    "# Combine aggregated statistics about colleges and universities per neighbourhood with other\n",
    "# neighbourhood attributes\n",
    "df_neigh_stats = ad.combine_neigh_stats_v2(\n",
    "    gdf,\n",
    "    df_coll_univ_new,\n",
    ")\n",
    "\n",
    "# Get neighbourhood containing bikeshare station locations\n",
    "df_stations_new = pa.check_output(ad.stations_schema_merged)(cn.get_data_with_neighbourhood)(\n",
    "    gdf[geo_cols],\n",
    "    df_stations,\n",
    "    \"lat\",\n",
    "    \"lon\",\n",
    "    \"station_id\",\n",
    ")\n",
    "\n",
    "# Merge bikeshare station locations with combined neighbourhood statistics\n",
    "df_stations_new = ad.combine_stations_metadata_neighbourhood_v2(df_stations_new, df_neigh_stats)"
   ]
  },
  {
   "cell_type": "markdown",
   "id": "00c83053-a3db-4f40-9d6b-07207253126c",
   "metadata": {},
   "source": [
    "**Notes**\n",
    "1. This is a small dataset (less than 1,000 rows) so loading the data is not time consuming and the data does not fill up local memory. The bikeshare stations may be changed between updates (as the network expands) and so, to get the latest set of stations, the station metadata supplementary dataset should be retrieved during every update. For these reasons, the supplementary datasets will always be retrieved when updating the dataset for building the dashboard."
   ]
  },
  {
   "cell_type": "markdown",
   "id": "1ff34d41-2cb6-413b-82d5-e856393176b7",
   "metadata": {},
   "source": [
    "<a id='download-bikeshare-trips-data'></a>\n",
    "\n",
    "### 5.2. [Download Bikeshare Trips Data](#download-bikeshare-trips-data)"
   ]
  },
  {
   "cell_type": "code",
   "execution_count": null,
   "id": "4ad66cb9-4bb1-4a27-857e-6ff3eb020c5c",
   "metadata": {
    "tags": []
   },
   "outputs": [],
   "source": [
    "%%time\n",
    "df_all_urls = bt.get_file_urls(url, trips_params, years_wanted, False)\n",
    "df_status = bt.get_data_zip_file_download_status(df_all_urls, raw_data_dir, False)\n",
    "display(df_status)\n",
    "\n",
    "cols = ['trips_file_name', 'downloaded_file', \"parquet_file_exists\", \"parquet_file_outdated\", \"last_modified_opendata\"]\n",
    "zip_file, downloaded_file, has_parquet, parquet_file_outdated_check, last_mod = df_status[cols].squeeze().tolist()\n",
    "\n",
    "if not has_parquet or parquet_file_outdated_check:\n",
    "    log_prefect(\"Loading updated trips data...\", True, False)\n",
    "    csvs = bt.get_local_csv_list(raw_data_dir, years_wanted, False)\n",
    "    dfs_agg = []\n",
    "    for k, csv_filepath in enumerate(csvs):\n",
    "        if k > 1:\n",
    "            break\n",
    "\n",
    "        csv_file = os.path.basename(csv_filepath)\n",
    "        # year = csv_filepath.split(\"-\")[0][-4:]\n",
    "        # print(year, csv_filepath, zip_file, downloaded_file, last_mod)\n",
    "\n",
    "        df = bt.get_single_ridership_data_file(\n",
    "            csv_filepath,\n",
    "            dtypes_dict_trips,\n",
    "            date_cols,\n",
    "            nan_cols,\n",
    "            duplicated_cols,\n",
    "            False\n",
    "        )\n",
    "\n",
    "        df = process_trips_data(df, False)\n",
    "\n",
    "        df_merged = ad.merge_trips_neighbourhood_stats(df, df_stations_new, False)\n",
    "        validate_merged_data(df_merged, False)\n",
    "\n",
    "        df_agg = ad.aggregate_merged_data(\n",
    "            df_merged, zip_file, downloaded_file, csv_file, last_mod, False\n",
    "        )\n",
    "        dfs_agg.append(df_agg)\n",
    "    log_prefect(\"Loaded updated trips data.\", False, False)\n",
    "else:\n",
    "    dfs_agg = []\n",
    "    log_prefect(\"Trips data is up-to-date. Did not load file.\", True, False)\n",
    "df_agg_downloaded = pd.concat(dfs_agg, ignore_index=True) if dfs_agg else pd.DataFrame(columns=list(ad.agg_schema.columns))\n",
    "validate_data_download_status(df_agg_downloaded, df_status)\n",
    "display(df_agg_downloaded.head(3))\n",
    "\n",
    "# If updated trips data was downloaded and aggregated, then\n",
    "# update existing parquet file or create new file\n",
    "if not df_agg_downloaded.empty:\n",
    "    # Update contents of current parquet file\n",
    "    if has_parquet:\n",
    "        ad.update_parquet_file_data(df_agg_downloaded, raw_data_filepath, updated_data_filepath)\n",
    "    # Export to parquet file\n",
    "    else:\n",
    "        pa.check_io(df=ad.agg_schema)(save_data_to_parquet_file)(df_agg_downloaded, raw_data_filepath)"
   ]
  },
  {
   "cell_type": "markdown",
   "id": "1120e644-9c70-4c60-a223-98d6dbe095b2",
   "metadata": {},
   "source": [
    "Delete all local data files"
   ]
  },
  {
   "cell_type": "code",
   "execution_count": null,
   "id": "216572e1-25bc-4a72-8707-404685dcdc3e",
   "metadata": {},
   "outputs": [],
   "source": [
    "files_by_dir = [\n",
    "    glob(os.path.join(fdir, f\"*{ft}\"))\n",
    "    for ft in [\".zip\", \".gzip\", \".csv\"]\n",
    "    for fdir in [\"data/raw\", \"data/processed\"]\n",
    "]\n",
    "for f in [f for fdir in files_by_dir for f in fdir]:\n",
    "    os.remove(f)"
   ]
  },
  {
   "cell_type": "markdown",
   "id": "778d5f8b-3437-43b2-a5a6-0671c1c4dd29",
   "metadata": {},
   "source": [
    "**Notes**\n",
    "1. `df_status` will be used to determine if trips data is outdated and it contains the following columns\n",
    "   - `trips_file_name`\n",
    "     - name of the trips data zip file available on the city's Open Data portal\n",
    "   - `last_modified_opendata`\n",
    "     - timestamp when trips data zip file available on the city's Open Data portal was last updated (on the data portal)\n",
    "   - `parquet_file_exists`\n",
    "     - boolean column\n",
    "     - indicates whether `parquet` file exists with trips data\n",
    "   - `parquet_file_data_last_modified`\n",
    "     - timestamp indicating when trips data zip file available in current `parquet` file was last updated\n",
    "   - `parquet_file_outdated`\n",
    "     - boolean column\n",
    "     - indicating whether `.parquet` file's contents are outdated\n",
    "       - contents are oudated if\n",
    "         - `parquet` file exists\n",
    "         - `parquet_file_data_last_modified` is earlier than `last_modified_opendata`\n",
    "   - `downloaded_file`\n",
    "     - boolean column\n",
    "     - whether the trips data zip file was downloaded (only `True` if current `parquet` file's contents are outdated)\n",
    "   \n",
    "   As mentioned in the [About](#about) section, `df_status` **has only been verified for a single year's trips data** (in the `.zip` file `trips_file_name`).\n",
    "2. If no new trips data is available than the current contents of the `parquet` file, then `df_agg_downloaded` will be empty. If new trips data is available then `df_agg_downloaded` will contain the following columns\n",
    "   - `AREA_NAME`\n",
    "     - name of city neighbourhood ([1](https://www.toronto.ca/city-government/data-research-maps/neighbourhoods-communities/neighbourhood-profiles/about-toronto-neighbourhoods/), [2](https://open.toronto.ca/dataset/neighbourhoods/))\n",
    "   - `USER_TYPE`\n",
    "     - type of bikeshare user\n",
    "   - `START_year`\n",
    "     - trip departure year\n",
    "   - `START_month`\n",
    "     - trip departure month\n",
    "   - `START_weekday`\n",
    "     - trip departure day of week (starts at Monday and ends at Sunday)\n",
    "   - `START_hour`\n",
    "     - trip departure hour of day (range from 0 to 23)\n",
    "   - `TRIP_DURATION`\n",
    "     - total trip duration for departures (trips)\n",
    "   - `NUM_STATIONS`\n",
    "     - number of stations from which departures occurred\n",
    "   - `NUM_DOCKS`\n",
    "     - total number of available bike docks\n",
    "     - note that this is not the number of docks from which departures occurred\n",
    "   - `NUM_TRIPS`\n",
    "     - number of departures (trips)\n",
    "   - `NUM_TRIPS_PHYSICALKEY`\n",
    "     - number of trips from stations that accept payment using a physical key ([link](https://bikesharetoronto.com/faq/))\n",
    "   - `NUM_TRIPS_TRANSITCARD`\n",
    "     - number of trips from stations that accept payment using a [transit card](https://dailyhive.com/toronto/presto-discount-bike-share-toronto-february-2019)\n",
    "   - `NUM_TRIPS_CREDITCARD`\n",
    "     - number of trips from stations that accept payment using a credit card\n",
    "   - `NUM_TRIPS_PHONE`\n",
    "     - number of trips from stations that accept payment using a [mobile phone app](https://bikesharetoronto.com/app/)\n",
    "   - `NEIGH_COLLEGES_UNIVS`\n",
    "     - number of major colleges and universities\n",
    "   - `zip_file`\n",
    "     - name of the trips data zip file available on the city's Open Data portal\n",
    "   - `csv_file`\n",
    "     - name of monthly CSV file containing trips data whose contents are populated in current `parquet` file\n",
    "   - `downloaded_file`\n",
    "     - boolean column\n",
    "     - whether the trips data zip file was downloaded (only `True` if current `parquet` file's contents are outdated)\n",
    "   - `last_modified_timestamp`\n",
    "     - timestamp when trips data zip file available on the city's Open Data portal was last updated (on the data portal)\n",
    "\n",
    "   where all columns with the `NUM_` prefix are per neighbourhood per user type per year per month per weekday per hour.\n",
    "3. In `df_agg_downloaded`\n",
    "   - `NUM_STATIONS` is the unique number of stations within each grouping of neighbourhood, user type, year, month, weekday and hour, so it cannot be aggregated further - it can only be shown as is\n",
    "   - `NUM_DOCKS` should be reported as is as it is not intuitive to interpret further aggregations of this column\n",
    "   - Since all reported institutions were in existence before the year of bikeshare (trips) occurred, `NEIGH_COLLEGES_UNIVS` number will not change per neighbourhood user type per year per month per weekday per hour"
   ]
  },
  {
   "cell_type": "markdown",
   "id": "de98b181-1d8c-4f45-b84f-8bba2c45c2cf",
   "metadata": {},
   "source": [
    "<a id='to-be-done'></a>\n",
    "\n",
    "## 6. [To Be Done](#to-be-done)"
   ]
  },
  {
   "cell_type": "markdown",
   "id": "c49854ef-fe11-4993-9580-34f03614046a",
   "metadata": {},
   "source": [
    "1. Export `parquet` file to cloud storage, for use in dashboard\n",
    "   - if contents of `parquet` file are outdated, then\n",
    "     - run `updated_data_filepath` to export updated contents locally\n",
    "     - delete file from cloud storage\n",
    "     - upload local file (with updated contents) to cloud storage\n",
    "2. In `src/trips/get_ridership_data.py`, read from cloud filepath by replacing local filepath with cloud storage filepath."
   ]
  },
  {
   "cell_type": "markdown",
   "id": "254ac704-656c-4c71-896e-8303458e39af",
   "metadata": {},
   "source": [
    "---"
   ]
  },
  {
   "cell_type": "markdown",
   "id": "2fda6ac8-3814-41ef-803e-b5723ea6ea4c",
   "metadata": {},
   "source": [
    "<span style=\"float:left;\">\n",
    "    2022 | <a href=\"https://github.com/elsdes3/bikeshare-dash\">@elsdes3</a> (MIT)\n",
    "</span>\n",
    "\n",
    "<span style=\"float:right;\">\n",
    "    <a href=\"./02_transform_bikeshare_data.ipynb\">02 - Transform Bikeshare Data >></a>\n",
    "</span>"
   ]
  }
 ],
 "metadata": {
  "kernelspec": {
   "display_name": "Python 3 (ipykernel)",
   "language": "python",
   "name": "python3"
  },
  "language_info": {
   "codemirror_mode": {
    "name": "ipython",
    "version": 3
   },
   "file_extension": ".py",
   "mimetype": "text/x-python",
   "name": "python",
   "nbconvert_exporter": "python",
   "pygments_lexer": "ipython3",
   "version": "3.9.7"
  }
 },
 "nbformat": 4,
 "nbformat_minor": 5
}
