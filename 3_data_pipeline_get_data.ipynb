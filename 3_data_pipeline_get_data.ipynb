{
 "cells": [
  {
   "cell_type": "markdown",
   "id": "62bd6953-99af-4819-89b0-0e19320ccf65",
   "metadata": {
    "tags": []
   },
   "source": [
    "# Data Pipeline to Get Data"
   ]
  },
  {
   "cell_type": "code",
   "execution_count": 1,
   "id": "f9a4e2f3-eadc-4d45-8e23-0cddf2613061",
   "metadata": {},
   "outputs": [],
   "source": [
    "%load_ext lab_black\n",
    "%load_ext autoreload\n",
    "%autoreload 2"
   ]
  },
  {
   "cell_type": "code",
   "execution_count": 2,
   "id": "2020db85-c73a-46f8-8a97-c39d7a572a07",
   "metadata": {},
   "outputs": [],
   "source": [
    "import pandas as pd\n",
    "from prefect import Flow"
   ]
  },
  {
   "cell_type": "markdown",
   "id": "c4402a0e-3bb3-4d3f-a72d-4490e50d95fb",
   "metadata": {},
   "source": [
    "## About"
   ]
  },
  {
   "cell_type": "markdown",
   "id": "3ce04429-36ad-40c4-a654-549996a59330",
   "metadata": {},
   "source": [
    "Use a data pipeline to assemble the data used in the dashboard."
   ]
  },
  {
   "cell_type": "markdown",
   "id": "f0dd3567-6737-4cde-a0c7-bdd9ef2253e8",
   "metadata": {},
   "source": [
    "## User Inputs"
   ]
  },
  {
   "cell_type": "code",
   "execution_count": 3,
   "id": "d6eab6a2-ffb2-4805-97dd-76a1a5d214cf",
   "metadata": {
    "tags": [
     "parameters"
    ]
   },
   "outputs": [],
   "source": [
    "open_tor_data_url = (\n",
    "    \"https://ckan0.cf.opendata.inter.prod-toronto.ca/api/3/action/package_show\"\n",
    ")\n",
    "\n",
    "trips_data_glob_str = \"data/raw/*.csv\"\n",
    "\n",
    "stations_params = {\"id\": \"2b44db0d-eea9-442d-b038-79335368ad5a\"}\n",
    "stations_cols_wanted = [\n",
    "    \"station_id\",\n",
    "    \"name\",\n",
    "    \"physical_configuration\",\n",
    "    \"lat\",\n",
    "    \"lon\",\n",
    "    \"altitude\",\n",
    "    \"address\",\n",
    "    \"capacity\",\n",
    "    \"physicalkey\",\n",
    "    \"transitcard\",\n",
    "    \"creditcard\",\n",
    "    \"phone\",\n",
    "]\n",
    "neigh_profile_params = {\"id\": \"6e19a90f-971c-46b3-852c-0c48c436d1fc\"}\n",
    "pt_params = {\"id\": \"7795b45e-e65a-4465-81fc-c36b9dfff169\"}\n",
    "poi_params = {\"id\": \"965247c0-c72e-49b4-bb1a-879cf98e1a32\"}\n",
    "ch_params = {\"id\": \"c7be2ee7-d317-4a28-8cbe-bff1ce116b46\"}\n",
    "neigh_boundary_params = {\"id\": \"4def3f65-2a65-4a4f-83c4-b2a4aed72d46\"}\n",
    "\n",
    "neigh_cols_to_show = [\n",
    "    \"AREA_ID\",\n",
    "    \"AREA_SHORT_CODE\",\n",
    "    \"AREA_LONG_CODE\",\n",
    "    \"AREA_NAME\",\n",
    "    \"Shape__Area\",\n",
    "    \"Shape__Length\",\n",
    "    \"LATITUDE\",\n",
    "    \"AREA_LATITUDE\",\n",
    "    \"LONGITUDE\",\n",
    "    \"AREA_LONGITUDE\",\n",
    "    \"geometry\",\n",
    "]\n",
    "trips_nan_cols = [\n",
    "    \"START_STATION_ID\",\n",
    "    \"END_STATION_ID\",\n",
    "    \"START_STATION_NAME\",\n",
    "    \"END_STATION_NAME\",\n",
    "]\n",
    "trips_duplicated_cols = [\"TRIP_ID\", \"START_TIME\", \"END_TIME\"]\n",
    "\n",
    "cols = [\"STATION_NAME\", \"year\", \"month\", \"day\", \"hour\"]\n",
    "\n",
    "# Exporting to staged CSV files\n",
    "cols_to_export = [\n",
    "    \"STATION_NAME\",\n",
    "    \"YEAR\",\n",
    "    \"MONTH\",\n",
    "    \"DAY\",\n",
    "    \"HOUR\",\n",
    "    \"USER_TYPE\",\n",
    "    \"NUM_TRIPS\",\n",
    "    \"DURATION_MEAN\",\n",
    "    \"AREA_NAME\",\n",
    "    \"PHYSICAL_CONFIGURATION\",\n",
    "    \"CAPACITY\",\n",
    "    \"PHYSICALKEY\",\n",
    "    \"TRANSITCARD\",\n",
    "    \"CREDITCARD\",\n",
    "    \"PHONE\",\n",
    "    \"NEIGH_TRANSIT_STOPS\",\n",
    "    \"NEIGH_COLLEGES_UNIVS\",\n",
    "    \"NEIGH_CULTURAL_ATTRACTIONS\",\n",
    "    \"NEIGH_PLACES_OF_INTEREST\",\n",
    "]\n",
    "nrows_per_staged_csv_file = 350_000"
   ]
  },
  {
   "cell_type": "code",
   "execution_count": 4,
   "id": "6d794efe-8c25-494f-a618-a4db361e5edd",
   "metadata": {},
   "outputs": [
    {
     "name": "stderr",
     "output_type": "stream",
     "text": [
      "/home/elsdes3/Downloads/bikeshare-dash/.tox/build/lib/python3.9/site-packages/geopandas/_compat.py:111: UserWarning: The Shapely GEOS version (3.10.2-CAPI-1.16.0) is incompatible with the GEOS version PyGEOS was compiled with (3.10.0-CAPI-1.16.0). Conversions between both will be slow.\n",
      "  warnings.warn(\n"
     ]
    }
   ],
   "source": [
    "%aimport src.data_pipe_utils\n",
    "import src.data_pipe_utils as dpu"
   ]
  },
  {
   "cell_type": "markdown",
   "id": "e28e41fc-2431-4cb1-9b2e-55a3f23596bd",
   "metadata": {},
   "source": [
    "## Data Pipeline"
   ]
  },
  {
   "cell_type": "markdown",
   "id": "4fae00d9-3e41-4999-bd0b-775dbb011b9c",
   "metadata": {},
   "source": [
    "### Define Pipeline"
   ]
  },
  {
   "cell_type": "code",
   "execution_count": 7,
   "id": "687bd4ef-c464-4f3a-abbe-30ad53ac76f9",
   "metadata": {},
   "outputs": [],
   "source": [
    "with Flow(\"My Functional Flow\") as flow:\n",
    "    df_stations = dpu.get_bikeshare_stations_metadata(\n",
    "        open_tor_data_url,\n",
    "        stations_params,\n",
    "        stations_cols_wanted,\n",
    "    )\n",
    "    df = dpu.get_bikeshare_trips_data(\n",
    "        trips_data_glob_str,\n",
    "        trips_nan_cols,\n",
    "        trips_duplicated_cols,\n",
    "    )\n",
    "    dfch_essentials = dpu.get_city_cultural_hotspots_data(open_tor_data_url, ch_params)\n",
    "    df_poi = dpu.get_city_points_of_interest_data(open_tor_data_url, poi_params)\n",
    "    gdf = dpu.get_city_neighbourhood_boundary_data(\n",
    "        open_tor_data_url,\n",
    "        neigh_boundary_params,\n",
    "        neigh_cols_to_show,\n",
    "    )\n",
    "    df_pt_slice = dpu.get_city_public_transit_locations_data(\n",
    "        open_tor_data_url, pt_params\n",
    "    )\n",
    "    df_coll_univ = dpu.get_city_college_university_locations_data()\n",
    "    df_neigh_demog = dpu.get_neighbourhood_profile_data(\n",
    "        open_tor_data_url, neigh_profile_params\n",
    "    )\n",
    "\n",
    "    (\n",
    "        df_poi_new,\n",
    "        dfch_essentials_new,\n",
    "        df_coll_univ_new,\n",
    "        df_pt_slice_new,\n",
    "        df_neigh_stats,\n",
    "        df_stations_new,\n",
    "    ) = dpu.aggregate_data(\n",
    "        gdf,\n",
    "        df_poi,\n",
    "        dfch_essentials,\n",
    "        df_coll_univ,\n",
    "        df_pt_slice,\n",
    "        df_neigh_demog,\n",
    "        df_stations,\n",
    "    )\n",
    "\n",
    "    df_hour_by_station_merged = dpu.combine_trips_neighbourhood_data(\n",
    "        df, cols, df_stations_new\n",
    "    )\n",
    "\n",
    "    dpu.export_aggregated_data_multiple_csvs(\n",
    "        df_hour_by_station_merged,\n",
    "        cols_to_export,\n",
    "        nrows_per_staged_csv_file,\n",
    "    )"
   ]
  },
  {
   "cell_type": "markdown",
   "id": "ae4496ca-ee14-4325-a117-e5186da77bbd",
   "metadata": {},
   "source": [
    "### Run Pipeline"
   ]
  },
  {
   "cell_type": "code",
   "execution_count": 8,
   "id": "19c3b1d9-b428-47a1-b8e4-cc8710b99ae9",
   "metadata": {
    "tags": []
   },
   "outputs": [
    {
     "name": "stdout",
     "output_type": "stream",
     "text": [
      "[2022-04-10 12:11:23-0400] INFO - prefect.FlowRunner | Beginning Flow run for 'My Functional Flow'\n",
      "[2022-04-10 12:11:23-0400] INFO - prefect.TaskRunner | Task 'get_city_cultural_hotspots_data': Starting task run...\n",
      "[2022-04-10 12:11:24-0400] INFO - prefect.get_city_cultural_hotspots_data | Retrieved 470 rows of citywide cultural hotspot data.\n",
      "[2022-04-10 12:11:24-0400] INFO - prefect.TaskRunner | Task 'get_city_cultural_hotspots_data': Finished task run for task with final state: 'Success'\n",
      "[2022-04-10 12:11:24-0400] INFO - prefect.TaskRunner | Task 'get_city_points_of_interest_data': Starting task run...\n",
      "[2022-04-10 12:11:24-0400] INFO - prefect.get_city_points_of_interest_data | Retrieved 174 rows of citywide points-of-interest data.\n",
      "[2022-04-10 12:11:24-0400] INFO - prefect.TaskRunner | Task 'get_city_points_of_interest_data': Finished task run for task with final state: 'Success'\n",
      "[2022-04-10 12:11:24-0400] INFO - prefect.TaskRunner | Task 'get_neighbourhood_profile_data': Starting task run...\n",
      "[2022-04-10 12:11:25-0400] INFO - prefect.get_neighbourhood_profile_data | Retrieved 140 rows of city neighbourhood profile data.\n",
      "[2022-04-10 12:11:25-0400] INFO - prefect.TaskRunner | Task 'get_neighbourhood_profile_data': Finished task run for task with final state: 'Success'\n",
      "[2022-04-10 12:11:25-0400] INFO - prefect.TaskRunner | Task 'get_bikeshare_stations_metadata': Starting task run...\n",
      "[2022-04-10 12:11:26-0400] INFO - prefect.get_bikeshare_stations_metadata | Retrieved 624 rows of bikeshare station metadata.\n",
      "[2022-04-10 12:11:26-0400] INFO - prefect.TaskRunner | Task 'get_bikeshare_stations_metadata': Finished task run for task with final state: 'Success'\n",
      "[2022-04-10 12:11:26-0400] INFO - prefect.TaskRunner | Task 'get_city_neighbourhood_boundary_data': Starting task run...\n",
      "[2022-04-10 12:11:27-0400] INFO - prefect.get_city_neighbourhood_boundary_data | Retrieved 140 rows of city neighbourhood boundary data.\n",
      "[2022-04-10 12:11:27-0400] INFO - prefect.TaskRunner | Task 'get_city_neighbourhood_boundary_data': Finished task run for task with final state: 'Success'\n",
      "[2022-04-10 12:11:27-0400] INFO - prefect.TaskRunner | Task 'get_bikeshare_trips_data': Starting task run...\n",
      "[2022-04-10 12:11:45-0400] INFO - prefect.get_bikeshare_trips_data | Retrieved 3,621,230 rows of bikeshare trips data.\n",
      "[2022-04-10 12:11:45-0400] INFO - prefect.TaskRunner | Task 'get_bikeshare_trips_data': Finished task run for task with final state: 'Success'\n",
      "[2022-04-10 12:11:45-0400] INFO - prefect.TaskRunner | Task 'get_city_public_transit_locations_data': Starting task run...\n",
      "[2022-04-10 12:11:54-0400] INFO - prefect.get_city_public_transit_locations_data | Retrieved 9,456 rows of city public transit location data.\n",
      "[2022-04-10 12:11:54-0400] INFO - prefect.TaskRunner | Task 'get_city_public_transit_locations_data': Finished task run for task with final state: 'Success'\n",
      "[2022-04-10 12:11:54-0400] INFO - prefect.TaskRunner | Task 'get_city_college_university_locations_data': Starting task run...\n",
      "[2022-04-10 12:11:54-0400] INFO - prefect.get_city_college_university_locations_data | Retrieved 11 rows of city college-univ location data.\n",
      "[2022-04-10 12:11:54-0400] INFO - prefect.TaskRunner | Task 'get_city_college_university_locations_data': Finished task run for task with final state: 'Success'\n",
      "[2022-04-10 12:11:54-0400] INFO - prefect.TaskRunner | Task 'aggregate_data': Starting task run...\n",
      "[2022-04-10 12:11:54-0400] INFO - prefect | Dropped 1 rows with a missing AREA_NAME\n",
      "[2022-04-10 12:11:54-0400] INFO - prefect.aggregate_data | Added neighbourhood to city points-of-interest data\n",
      "[2022-04-10 12:11:54-0400] INFO - prefect | Dropped 1 rows with a missing AREA_NAME\n",
      "[2022-04-10 12:11:54-0400] INFO - prefect.aggregate_data | Added neighbourhood to city cultural hotspots data\n",
      "[2022-04-10 12:11:54-0400] INFO - prefect | Dropped 1 rows with a missing AREA_NAME\n",
      "[2022-04-10 12:11:54-0400] INFO - prefect.aggregate_data | Added neighbourhood to city college and university locations data\n",
      "[2022-04-10 12:11:54-0400] INFO - prefect | Dropped 1 rows with a missing AREA_NAME\n",
      "[2022-04-10 12:11:54-0400] INFO - prefect.aggregate_data | Added neighbourhood to city public transit locations data\n",
      "[2022-04-10 12:11:55-0400] INFO - prefect.aggregate_data | Aggregated statistics per city neighbourhood\n",
      "[2022-04-10 12:11:55-0400] INFO - prefect | Dropped 1 rows with a missing AREA_NAME\n",
      "[2022-04-10 12:11:55-0400] INFO - prefect.aggregate_data | Added stations to bikeshare station metadata\n",
      "[2022-04-10 12:11:55-0400] INFO - prefect.aggregate_data | Combined stats and bikeshare station metadata per neighbourhood\n",
      "[2022-04-10 12:11:55-0400] INFO - prefect.TaskRunner | Task 'aggregate_data': Finished task run for task with final state: 'Success'\n",
      "[2022-04-10 12:11:55-0400] INFO - prefect.TaskRunner | Task 'aggregate_data[0]': Starting task run...\n",
      "[2022-04-10 12:11:55-0400] INFO - prefect.TaskRunner | Task 'aggregate_data[0]': Finished task run for task with final state: 'Success'\n",
      "[2022-04-10 12:11:55-0400] INFO - prefect.TaskRunner | Task 'aggregate_data[1]': Starting task run...\n",
      "[2022-04-10 12:11:55-0400] INFO - prefect.TaskRunner | Task 'aggregate_data[1]': Finished task run for task with final state: 'Success'\n",
      "[2022-04-10 12:11:55-0400] INFO - prefect.TaskRunner | Task 'aggregate_data[2]': Starting task run...\n",
      "[2022-04-10 12:11:55-0400] INFO - prefect.TaskRunner | Task 'aggregate_data[2]': Finished task run for task with final state: 'Success'\n",
      "[2022-04-10 12:11:55-0400] INFO - prefect.TaskRunner | Task 'aggregate_data[4]': Starting task run...\n",
      "[2022-04-10 12:11:55-0400] INFO - prefect.TaskRunner | Task 'aggregate_data[4]': Finished task run for task with final state: 'Success'\n",
      "[2022-04-10 12:11:55-0400] INFO - prefect.TaskRunner | Task 'aggregate_data[5]': Starting task run...\n",
      "[2022-04-10 12:11:55-0400] INFO - prefect.TaskRunner | Task 'aggregate_data[5]': Finished task run for task with final state: 'Success'\n",
      "[2022-04-10 12:11:55-0400] INFO - prefect.TaskRunner | Task 'aggregate_data[3]': Starting task run...\n",
      "[2022-04-10 12:11:55-0400] INFO - prefect.TaskRunner | Task 'aggregate_data[3]': Finished task run for task with final state: 'Success'\n",
      "[2022-04-10 12:11:55-0400] INFO - prefect.TaskRunner | Task 'combine_trips_neighbourhood_data': Starting task run...\n",
      "[2022-04-10 12:12:05-0400] INFO - prefect.combine_trips_neighbourhood_data | Created aggregation of hourly trips per station with neighbourhood stats\n",
      "[2022-04-10 12:12:05-0400] INFO - prefect.TaskRunner | Task 'combine_trips_neighbourhood_data': Finished task run for task with final state: 'Success'\n",
      "[2022-04-10 12:12:05-0400] INFO - prefect.TaskRunner | Task 'export_aggregated_data_multiple_csvs': Starting task run...\n",
      "[2022-04-10 12:12:09-0400] INFO - prefect | Exported manual chunk 1 of 10 to local_stage_1.csv.gz (indexes range = 0 - 350,000)\n",
      "[2022-04-10 12:12:11-0400] INFO - prefect | Exported manual chunk 2 of 10 to local_stage_2.csv.gz (indexes range = 350,000 - 700,000)\n",
      "[2022-04-10 12:12:13-0400] INFO - prefect | Exported manual chunk 3 of 10 to local_stage_3.csv.gz (indexes range = 700,000 - 1,050,000)\n",
      "[2022-04-10 12:12:15-0400] INFO - prefect | Exported manual chunk 4 of 10 to local_stage_4.csv.gz (indexes range = 1,050,000 - 1,400,000)\n",
      "[2022-04-10 12:12:17-0400] INFO - prefect | Exported manual chunk 5 of 10 to local_stage_5.csv.gz (indexes range = 1,400,000 - 1,750,000)\n",
      "[2022-04-10 12:12:19-0400] INFO - prefect | Exported manual chunk 6 of 10 to local_stage_6.csv.gz (indexes range = 1,750,000 - 2,100,000)\n",
      "[2022-04-10 12:12:21-0400] INFO - prefect | Exported manual chunk 7 of 10 to local_stage_7.csv.gz (indexes range = 2,100,000 - 2,450,000)\n",
      "[2022-04-10 12:12:23-0400] INFO - prefect | Exported manual chunk 8 of 10 to local_stage_8.csv.gz (indexes range = 2,450,000 - 2,800,000)\n",
      "[2022-04-10 12:12:25-0400] INFO - prefect | Exported manual chunk 9 of 10 to local_stage_9.csv.gz (indexes range = 2,800,000 - 3,150,000)\n",
      "[2022-04-10 12:12:27-0400] INFO - prefect | Exported manual chunk 10 of 10 to local_stage_10.csv.gz (indexes range = 3,150,000 - 3,734,673)\n",
      "[2022-04-10 12:12:27-0400] INFO - prefect.TaskRunner | Task 'export_aggregated_data_multiple_csvs': Finished task run for task with final state: 'Success'\n",
      "[2022-04-10 12:12:27-0400] INFO - prefect.FlowRunner | Flow run SUCCESS: all reference tasks succeeded\n",
      "CPU times: user 50.1 s, sys: 1.65 s, total: 51.7 s\n",
      "Wall time: 1min 3s\n"
     ]
    }
   ],
   "source": [
    "%%time\n",
    "state = flow.run()"
   ]
  },
  {
   "cell_type": "code",
   "execution_count": null,
   "id": "e3381614-82e5-4b70-8144-cef384e765ba",
   "metadata": {},
   "outputs": [],
   "source": [
    "%%time\n",
    "# print(state.result[gdf].shape)\n",
    "# display(state.result[gdf].result.describe())\n",
    "display(state.result[df_neigh_demog].result.describe())\n",
    "# display(state.result[df_poi_new].result.describe())\n",
    "# display(state.result[dfch_essentials_new].result.describe())\n",
    "# display(state.result[df_coll_univ_new].result.describe())\n",
    "# display(state.result[df_pt_slice_new].result.describe())\n",
    "with pd.option_context('display.max_columns', 100):\n",
    "    display(state.result[df_neigh_stats].result.describe())\n",
    "    display(state.result[df_stations_new].result.describe())\n",
    "    display(state.result[df_hour_by_station_merged].result.describe())"
   ]
  }
 ],
 "metadata": {
  "kernelspec": {
   "display_name": "Python 3 (ipykernel)",
   "language": "python",
   "name": "python3"
  },
  "language_info": {
   "codemirror_mode": {
    "name": "ipython",
    "version": 3
   },
   "file_extension": ".py",
   "mimetype": "text/x-python",
   "name": "python",
   "nbconvert_exporter": "python",
   "pygments_lexer": "ipython3",
   "version": "3.9.7"
  }
 },
 "nbformat": 4,
 "nbformat_minor": 5
}
